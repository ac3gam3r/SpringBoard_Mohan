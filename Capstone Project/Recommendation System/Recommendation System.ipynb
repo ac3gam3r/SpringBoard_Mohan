{
 "cells": [
  {
   "cell_type": "markdown",
   "metadata": {},
   "source": [
    "### Importing the required Libraries."
   ]
  },
  {
   "cell_type": "code",
   "execution_count": 1,
   "metadata": {
    "collapsed": false
   },
   "outputs": [],
   "source": [
    "#importing the required libraries\n",
    "\n",
    "%matplotlib inline \n",
    "\n",
    "import numpy as np\n",
    "import pandas as pd\n",
    "import matplotlib.pyplot as plt\n",
    "import seaborn as sns\n",
    "from sklearn.model_selection import train_test_split\n",
    "from mpldatacursor import datacursor\n",
    "from sklearn.metrics import mean_squared_error\n",
    "from matplotlib import rcParams\n",
    "sns.set_style(\"whitegrid\")\n",
    "sns.set_context(\"poster\")"
   ]
  },
  {
   "cell_type": "markdown",
   "metadata": {},
   "source": [
    "### Some CSS Customizations"
   ]
  },
  {
   "cell_type": "code",
   "execution_count": 2,
   "metadata": {
    "collapsed": false
   },
   "outputs": [
    {
     "data": {
      "text/html": [
       "<style>body {\n",
       "    margin: 0;\n",
       "    font-family: Helvetica;\n",
       "}\n",
       "table.dataframe {\n",
       "    border-collapse: collapse;\n",
       "    border: none;\n",
       "}\n",
       "table.dataframe tr {\n",
       "    border: none;\n",
       "}\n",
       "table.dataframe td, table.dataframe th {\n",
       "    margin: 0;\n",
       "    border: 1px solid white;\n",
       "    padding-left: 0.25em;\n",
       "    padding-right: 0.25em;\n",
       "}\n",
       "table.dataframe th:not(:empty) {\n",
       "    background-color: #fec;\n",
       "    text-align: left;\n",
       "    font-weight: normal;\n",
       "}\n",
       "table.dataframe tr:nth-child(2) th:empty {\n",
       "    border-left: none;\n",
       "    border-right: 1px dashed #888;\n",
       "}\n",
       "table.dataframe td {\n",
       "    border: 2px solid #ccf;\n",
       "    background-color: #f4f4ff;\n",
       "}\n",
       "h3 {\n",
       "    color: white;\n",
       "    background-color: black;\n",
       "    padding: 0.5em;\n",
       "}\n",
       "</style>"
      ],
      "text/plain": [
       "<IPython.core.display.HTML object>"
      ]
     },
     "execution_count": 2,
     "metadata": {},
     "output_type": "execute_result"
    }
   ],
   "source": [
    "#customizing with some CSS\n",
    "\n",
    "from IPython.core.display import HTML\n",
    "css = open('style-table.css').read() + open('style-notebook.css').read()\n",
    "HTML('<style>{}</style>'.format(css))"
   ]
  },
  {
   "cell_type": "markdown",
   "metadata": {},
   "source": [
    "### Data Cleaning\n"
   ]
  },
  {
   "cell_type": "code",
   "execution_count": 5,
   "metadata": {
    "collapsed": false,
    "scrolled": true
   },
   "outputs": [],
   "source": [
    "#Reading/Cleaning the Movies Data.\n",
    "\n",
    "df = pd.read_excel('data/Movies.xlsx',index_col=None)\n",
    "df['Year'] = (df['Movie Name']).str.extract('(\\d\\d\\d\\d)',expand = True)\n",
    "df['Movie Name'] = (df['Movie Name']).str.replace('(\\(....\\))','')\n",
    "df1 = pd.DataFrame(df)\n",
    "\n",
    "#I have separted the combined Genre of the movies, so that I can perform some calculations on Genre\n",
    "df2 = pd.DataFrame(df1['Genre'].str.split('\\|').tolist(),columns=['a','b','c','d','e','f'])\n",
    "df2['Movie ID'] = df1['Movie ID']\n",
    "df3 = df.merge(df2)\n",
    "df3.drop(['Genre', 'd','e','f'], axis=1, inplace=True)\n",
    "df4 = pd.melt(df3, id_vars=[\"Movie ID\", \"Movie Name\",\"Year\"], \n",
    "                  var_name=\"Date\", value_name=\"Genre\")\n",
    "del df4['Date']\n",
    "movies=df4.sort_values(by=['Movie ID'])\n",
    "movies = movies.dropna()\n",
    "movies.columns = [x.strip().replace(' ', '_') for x in movies.columns]\n"
   ]
  },
  {
   "cell_type": "code",
   "execution_count": 6,
   "metadata": {
    "collapsed": false,
    "scrolled": true
   },
   "outputs": [],
   "source": [
    "#Reading/Cleaning the Ratings Data.\n",
    "\n",
    "ratings = pd.read_excel('data/Ratings.xlsx',index_col=None)\n",
    "#del ratings['Timestamp'] #Removing Timestamp column\n",
    "ratings.columns = [x.strip().replace(' ', '_') for x in ratings.columns]"
   ]
  },
  {
   "cell_type": "code",
   "execution_count": 7,
   "metadata": {
    "collapsed": false,
    "scrolled": true
   },
   "outputs": [],
   "source": [
    "#Reading/Cleaning the Users Data.\n",
    "users = pd.read_excel('data/Users.xlsx',index_col=None)\n",
    "#del users['Zipcode'] #Removing Zipcode column, since it is not required.\n",
    "for index,row in users.iterrows():\n",
    "    if(row.Occupation == 0):\n",
    "        users.loc[index,\"Profession\"]=\"Other\"\n",
    "    elif(row.Occupation == 1):\n",
    "        users.loc[index,\"Profession\"]=\"Academic\"\n",
    "    elif(row.Occupation == 2):\n",
    "        users.loc[index,\"Profession\"]=\"Artist\"\n",
    "    elif(row.Occupation == 3):\n",
    "        users.loc[index,\"Profession\"]=\"Clerk\"\n",
    "    elif(row.Occupation == 4):\n",
    "        users.loc[index,\"Profession\"]=\"College Student\"\n",
    "    elif(row.Occupation == 5):\n",
    "        users.loc[index,\"Profession\"]=\"Customer Service\"\n",
    "    elif(row.Occupation == 6):\n",
    "        users.loc[index,\"Profession\"]=\"Doctor\"\n",
    "    elif(row.Occupation == 7):\n",
    "        users.loc[index,\"Profession\"]=\"Manager\"\n",
    "    elif(row.Occupation == 8):\n",
    "        users.loc[index,\"Profession\"]=\"Farmer\"\n",
    "    elif(row.Occupation == 9):\n",
    "        users.loc[index,\"Profession\"]=\"HomeMaker\"\n",
    "    elif(row.Occupation == 10):\n",
    "        users.loc[index,\"Profession\"]=\"K-12 Student\"\n",
    "    elif(row.Occupation == 11):\n",
    "        users.loc[index,\"Profession\"]=\"Lawyer\"\n",
    "    elif(row.Occupation == 12):\n",
    "        users.loc[index,\"Profession\"]=\"Programmer\"\n",
    "    elif(row.Occupation == 13):\n",
    "        users.loc[index,\"Profession\"]=\"Retired\"\n",
    "    elif(row.Occupation == 14):\n",
    "        users.loc[index,\"Profession\"]=\"Sales\"\n",
    "    elif(row.Occupation == 15):\n",
    "        users.loc[index,\"Profession\"]=\"Scientist\"\n",
    "    elif(row.Occupation == 16):\n",
    "        users.loc[index,\"Profession\"]=\"Self-Employed\"\n",
    "    elif(row.Occupation == 17):\n",
    "        users.loc[index,\"Profession\"]=\"Engineer\"\n",
    "    elif(row.Occupation == 18):\n",
    "        users.loc[index,\"Profession\"]=\"Craftsman\"\n",
    "    elif(row.Occupation == 19):\n",
    "        users.loc[index,\"Profession\"]=\"Unemployed\"\n",
    "    elif(row.Occupation == 20):\n",
    "        users.loc[index,\"Profession\"]=\"Writer\""
   ]
  },
  {
   "cell_type": "code",
   "execution_count": 125,
   "metadata": {
    "collapsed": false
   },
   "outputs": [
    {
     "data": {
      "text/html": [
       "<div>\n",
       "<table border=\"1\" class=\"dataframe\">\n",
       "  <thead>\n",
       "    <tr style=\"text-align: right;\">\n",
       "      <th></th>\n",
       "      <th>User_ID</th>\n",
       "      <th>Sex</th>\n",
       "      <th>Age_Group</th>\n",
       "      <th>Occupation</th>\n",
       "      <th>Zipcode</th>\n",
       "      <th>Profession</th>\n",
       "    </tr>\n",
       "  </thead>\n",
       "  <tbody>\n",
       "    <tr>\n",
       "      <th>0</th>\n",
       "      <td>1</td>\n",
       "      <td>F</td>\n",
       "      <td>1</td>\n",
       "      <td>10</td>\n",
       "      <td>48067</td>\n",
       "      <td>K-12 Student</td>\n",
       "    </tr>\n",
       "    <tr>\n",
       "      <th>1</th>\n",
       "      <td>2</td>\n",
       "      <td>M</td>\n",
       "      <td>56</td>\n",
       "      <td>16</td>\n",
       "      <td>70072</td>\n",
       "      <td>Self-Employed</td>\n",
       "    </tr>\n",
       "    <tr>\n",
       "      <th>2</th>\n",
       "      <td>3</td>\n",
       "      <td>M</td>\n",
       "      <td>25</td>\n",
       "      <td>15</td>\n",
       "      <td>55117</td>\n",
       "      <td>Scientist</td>\n",
       "    </tr>\n",
       "    <tr>\n",
       "      <th>3</th>\n",
       "      <td>4</td>\n",
       "      <td>M</td>\n",
       "      <td>45</td>\n",
       "      <td>7</td>\n",
       "      <td>2460</td>\n",
       "      <td>Manager</td>\n",
       "    </tr>\n",
       "    <tr>\n",
       "      <th>4</th>\n",
       "      <td>5</td>\n",
       "      <td>M</td>\n",
       "      <td>25</td>\n",
       "      <td>20</td>\n",
       "      <td>55455</td>\n",
       "      <td>Writer</td>\n",
       "    </tr>\n",
       "  </tbody>\n",
       "</table>\n",
       "</div>"
      ],
      "text/plain": [
       "   User_ID Sex  Age_Group  Occupation Zipcode     Profession\n",
       "0        1   F          1          10   48067   K-12 Student\n",
       "1        2   M         56          16   70072  Self-Employed\n",
       "2        3   M         25          15   55117      Scientist\n",
       "3        4   M         45           7    2460        Manager\n",
       "4        5   M         25          20   55455         Writer"
      ]
     },
     "execution_count": 125,
     "metadata": {},
     "output_type": "execute_result"
    }
   ],
   "source": [
    "users.columns = [x.strip().replace(' ', '_') for x in users.columns]\n",
    "users.head()"
   ]
  },
  {
   "cell_type": "code",
   "execution_count": 126,
   "metadata": {
    "collapsed": false
   },
   "outputs": [
    {
     "data": {
      "text/html": [
       "<div>\n",
       "<table border=\"1\" class=\"dataframe\">\n",
       "  <thead>\n",
       "    <tr style=\"text-align: right;\">\n",
       "      <th></th>\n",
       "      <th>User_ID</th>\n",
       "      <th>Sex</th>\n",
       "      <th>Age_Group</th>\n",
       "      <th>Occupation</th>\n",
       "      <th>Zipcode</th>\n",
       "      <th>Profession</th>\n",
       "      <th>Movie_ID</th>\n",
       "      <th>Movie_Name</th>\n",
       "      <th>Year</th>\n",
       "      <th>Rating</th>\n",
       "    </tr>\n",
       "  </thead>\n",
       "  <tbody>\n",
       "    <tr>\n",
       "      <th>0</th>\n",
       "      <td>1</td>\n",
       "      <td>F</td>\n",
       "      <td>1</td>\n",
       "      <td>10</td>\n",
       "      <td>48067</td>\n",
       "      <td>K-12 Student</td>\n",
       "      <td>1</td>\n",
       "      <td>Toy Story</td>\n",
       "      <td>1995</td>\n",
       "      <td>5</td>\n",
       "    </tr>\n",
       "    <tr>\n",
       "      <th>1</th>\n",
       "      <td>1</td>\n",
       "      <td>F</td>\n",
       "      <td>1</td>\n",
       "      <td>10</td>\n",
       "      <td>48067</td>\n",
       "      <td>K-12 Student</td>\n",
       "      <td>1028</td>\n",
       "      <td>Mary Poppins</td>\n",
       "      <td>1964</td>\n",
       "      <td>5</td>\n",
       "    </tr>\n",
       "    <tr>\n",
       "      <th>2</th>\n",
       "      <td>1</td>\n",
       "      <td>F</td>\n",
       "      <td>1</td>\n",
       "      <td>10</td>\n",
       "      <td>48067</td>\n",
       "      <td>K-12 Student</td>\n",
       "      <td>783</td>\n",
       "      <td>Hunchback of Notre Dame, The</td>\n",
       "      <td>1996</td>\n",
       "      <td>4</td>\n",
       "    </tr>\n",
       "    <tr>\n",
       "      <th>3</th>\n",
       "      <td>1</td>\n",
       "      <td>F</td>\n",
       "      <td>1</td>\n",
       "      <td>10</td>\n",
       "      <td>48067</td>\n",
       "      <td>K-12 Student</td>\n",
       "      <td>783</td>\n",
       "      <td>Hunchback of Notre Dame, The</td>\n",
       "      <td>1996</td>\n",
       "      <td>4</td>\n",
       "    </tr>\n",
       "    <tr>\n",
       "      <th>4</th>\n",
       "      <td>1</td>\n",
       "      <td>F</td>\n",
       "      <td>1</td>\n",
       "      <td>10</td>\n",
       "      <td>48067</td>\n",
       "      <td>K-12 Student</td>\n",
       "      <td>783</td>\n",
       "      <td>Hunchback of Notre Dame, The</td>\n",
       "      <td>1996</td>\n",
       "      <td>4</td>\n",
       "    </tr>\n",
       "  </tbody>\n",
       "</table>\n",
       "</div>"
      ],
      "text/plain": [
       "   User_ID Sex  Age_Group  Occupation Zipcode    Profession  Movie_ID  \\\n",
       "0        1   F          1          10   48067  K-12 Student         1   \n",
       "1        1   F          1          10   48067  K-12 Student      1028   \n",
       "2        1   F          1          10   48067  K-12 Student       783   \n",
       "3        1   F          1          10   48067  K-12 Student       783   \n",
       "4        1   F          1          10   48067  K-12 Student       783   \n",
       "\n",
       "                      Movie_Name  Year  Rating  \n",
       "0                     Toy Story   1995       5  \n",
       "1                  Mary Poppins   1964       5  \n",
       "2  Hunchback of Notre Dame, The   1996       4  \n",
       "3  Hunchback of Notre Dame, The   1996       4  \n",
       "4  Hunchback of Notre Dame, The   1996       4  "
      ]
     },
     "execution_count": 126,
     "metadata": {},
     "output_type": "execute_result"
    }
   ],
   "source": [
    "#Merging Ratings data and Users Data\n",
    "Users = users.merge(ratings)\n",
    "Users.head()"
   ]
  },
  {
   "cell_type": "code",
   "execution_count": 10,
   "metadata": {
    "collapsed": false
   },
   "outputs": [
    {
     "data": {
      "text/html": [
       "<div>\n",
       "<table border=\"1\" class=\"dataframe\">\n",
       "  <thead>\n",
       "    <tr style=\"text-align: right;\">\n",
       "      <th></th>\n",
       "      <th>Movie_ID</th>\n",
       "      <th>Movie_Name</th>\n",
       "      <th>Year</th>\n",
       "      <th>Genre</th>\n",
       "      <th>User_ID</th>\n",
       "      <th>Sex</th>\n",
       "      <th>Age_Group</th>\n",
       "      <th>Occupation</th>\n",
       "      <th>Profession</th>\n",
       "      <th>Rating</th>\n",
       "    </tr>\n",
       "  </thead>\n",
       "  <tbody>\n",
       "    <tr>\n",
       "      <th>0</th>\n",
       "      <td>1</td>\n",
       "      <td>Toy Story</td>\n",
       "      <td>1995</td>\n",
       "      <td>Animation</td>\n",
       "      <td>1</td>\n",
       "      <td>F</td>\n",
       "      <td>1</td>\n",
       "      <td>10</td>\n",
       "      <td>K-12 Student</td>\n",
       "      <td>5</td>\n",
       "    </tr>\n",
       "    <tr>\n",
       "      <th>1</th>\n",
       "      <td>1</td>\n",
       "      <td>Toy Story</td>\n",
       "      <td>1995</td>\n",
       "      <td>Animation</td>\n",
       "      <td>6</td>\n",
       "      <td>F</td>\n",
       "      <td>50</td>\n",
       "      <td>9</td>\n",
       "      <td>HomeMaker</td>\n",
       "      <td>4</td>\n",
       "    </tr>\n",
       "    <tr>\n",
       "      <th>2</th>\n",
       "      <td>1</td>\n",
       "      <td>Toy Story</td>\n",
       "      <td>1995</td>\n",
       "      <td>Animation</td>\n",
       "      <td>8</td>\n",
       "      <td>M</td>\n",
       "      <td>25</td>\n",
       "      <td>12</td>\n",
       "      <td>Programmer</td>\n",
       "      <td>4</td>\n",
       "    </tr>\n",
       "    <tr>\n",
       "      <th>3</th>\n",
       "      <td>1</td>\n",
       "      <td>Toy Story</td>\n",
       "      <td>1995</td>\n",
       "      <td>Animation</td>\n",
       "      <td>9</td>\n",
       "      <td>M</td>\n",
       "      <td>25</td>\n",
       "      <td>17</td>\n",
       "      <td>Engineer</td>\n",
       "      <td>5</td>\n",
       "    </tr>\n",
       "    <tr>\n",
       "      <th>4</th>\n",
       "      <td>1</td>\n",
       "      <td>Toy Story</td>\n",
       "      <td>1995</td>\n",
       "      <td>Animation</td>\n",
       "      <td>10</td>\n",
       "      <td>F</td>\n",
       "      <td>35</td>\n",
       "      <td>1</td>\n",
       "      <td>Academic</td>\n",
       "      <td>5</td>\n",
       "    </tr>\n",
       "  </tbody>\n",
       "</table>\n",
       "</div>"
      ],
      "text/plain": [
       "   Movie_ID  Movie_Name  Year      Genre  User_ID Sex  Age_Group  Occupation  \\\n",
       "0         1  Toy Story   1995  Animation        1   F          1          10   \n",
       "1         1  Toy Story   1995  Animation        6   F         50           9   \n",
       "2         1  Toy Story   1995  Animation        8   M         25          12   \n",
       "3         1  Toy Story   1995  Animation        9   M         25          17   \n",
       "4         1  Toy Story   1995  Animation       10   F         35           1   \n",
       "\n",
       "     Profession  Rating  \n",
       "0  K-12 Student       5  \n",
       "1     HomeMaker       4  \n",
       "2    Programmer       4  \n",
       "3      Engineer       5  \n",
       "4      Academic       5  "
      ]
     },
     "execution_count": 10,
     "metadata": {},
     "output_type": "execute_result"
    }
   ],
   "source": [
    "#Merging Everything\n",
    "final = movies.merge(Users)\n",
    "del final['Zipcode']\n",
    "del final['Timestamp']\n",
    "final.head()"
   ]
  },
  {
   "cell_type": "code",
   "execution_count": 11,
   "metadata": {
    "collapsed": false
   },
   "outputs": [],
   "source": [
    "#Final Dataset\n",
    "final = final.sort_values(by=['User_ID'])\n"
   ]
  },
  {
   "cell_type": "code",
   "execution_count": 12,
   "metadata": {
    "collapsed": true
   },
   "outputs": [],
   "source": [
    "#Replacing the space in the column names\n",
    "final.columns = [x.strip().replace(' ', '_') for x in final.columns]"
   ]
  },
  {
   "cell_type": "code",
   "execution_count": 13,
   "metadata": {
    "collapsed": false
   },
   "outputs": [
    {
     "data": {
      "text/html": [
       "<div>\n",
       "<table border=\"1\" class=\"dataframe\">\n",
       "  <thead>\n",
       "    <tr style=\"text-align: right;\">\n",
       "      <th></th>\n",
       "      <th>Movie_ID</th>\n",
       "      <th>Movie_Name</th>\n",
       "      <th>Year</th>\n",
       "      <th>Genre</th>\n",
       "      <th>User_ID</th>\n",
       "      <th>Sex</th>\n",
       "      <th>Age_Group</th>\n",
       "      <th>Occupation</th>\n",
       "      <th>Profession</th>\n",
       "      <th>Rating</th>\n",
       "    </tr>\n",
       "  </thead>\n",
       "  <tbody>\n",
       "    <tr>\n",
       "      <th>0</th>\n",
       "      <td>1</td>\n",
       "      <td>Toy Story</td>\n",
       "      <td>1995</td>\n",
       "      <td>Animation</td>\n",
       "      <td>1</td>\n",
       "      <td>F</td>\n",
       "      <td>1</td>\n",
       "      <td>10</td>\n",
       "      <td>K-12 Student</td>\n",
       "      <td>5</td>\n",
       "    </tr>\n",
       "    <tr>\n",
       "      <th>481490</th>\n",
       "      <td>1028</td>\n",
       "      <td>Mary Poppins</td>\n",
       "      <td>1964</td>\n",
       "      <td>Children's</td>\n",
       "      <td>1</td>\n",
       "      <td>F</td>\n",
       "      <td>1</td>\n",
       "      <td>10</td>\n",
       "      <td>K-12 Student</td>\n",
       "      <td>5</td>\n",
       "    </tr>\n",
       "    <tr>\n",
       "      <th>380413</th>\n",
       "      <td>783</td>\n",
       "      <td>Hunchback of Notre Dame, The</td>\n",
       "      <td>1996</td>\n",
       "      <td>Children's</td>\n",
       "      <td>1</td>\n",
       "      <td>F</td>\n",
       "      <td>1</td>\n",
       "      <td>10</td>\n",
       "      <td>K-12 Student</td>\n",
       "      <td>4</td>\n",
       "    </tr>\n",
       "    <tr>\n",
       "      <th>380803</th>\n",
       "      <td>783</td>\n",
       "      <td>Hunchback of Notre Dame, The</td>\n",
       "      <td>1996</td>\n",
       "      <td>Musical</td>\n",
       "      <td>1</td>\n",
       "      <td>F</td>\n",
       "      <td>1</td>\n",
       "      <td>10</td>\n",
       "      <td>K-12 Student</td>\n",
       "      <td>4</td>\n",
       "    </tr>\n",
       "    <tr>\n",
       "      <th>381193</th>\n",
       "      <td>783</td>\n",
       "      <td>Hunchback of Notre Dame, The</td>\n",
       "      <td>1996</td>\n",
       "      <td>Animation</td>\n",
       "      <td>1</td>\n",
       "      <td>F</td>\n",
       "      <td>1</td>\n",
       "      <td>10</td>\n",
       "      <td>K-12 Student</td>\n",
       "      <td>4</td>\n",
       "    </tr>\n",
       "  </tbody>\n",
       "</table>\n",
       "</div>"
      ],
      "text/plain": [
       "        Movie_ID                     Movie_Name  Year       Genre  User_ID  \\\n",
       "0              1                     Toy Story   1995   Animation        1   \n",
       "481490      1028                  Mary Poppins   1964  Children's        1   \n",
       "380413       783  Hunchback of Notre Dame, The   1996  Children's        1   \n",
       "380803       783  Hunchback of Notre Dame, The   1996     Musical        1   \n",
       "381193       783  Hunchback of Notre Dame, The   1996   Animation        1   \n",
       "\n",
       "       Sex  Age_Group  Occupation    Profession  Rating  \n",
       "0        F          1          10  K-12 Student       5  \n",
       "481490   F          1          10  K-12 Student       5  \n",
       "380413   F          1          10  K-12 Student       4  \n",
       "380803   F          1          10  K-12 Student       4  \n",
       "381193   F          1          10  K-12 Student       4  "
      ]
     },
     "execution_count": 13,
     "metadata": {},
     "output_type": "execute_result"
    }
   ],
   "source": [
    "final.head()"
   ]
  },
  {
   "cell_type": "code",
   "execution_count": 14,
   "metadata": {
    "collapsed": true
   },
   "outputs": [],
   "source": [
    "f = final"
   ]
  },
  {
   "cell_type": "markdown",
   "metadata": {},
   "source": [
    "### Data Story and some Interesting findings."
   ]
  },
  {
   "cell_type": "code",
   "execution_count": 15,
   "metadata": {
    "collapsed": false
   },
   "outputs": [
    {
     "data": {
      "text/plain": [
       "3514"
      ]
     },
     "execution_count": 15,
     "metadata": {},
     "output_type": "execute_result"
    }
   ],
   "source": [
    "#Number Of Movies\n",
    "f.Movie_ID.nunique()"
   ]
  },
  {
   "cell_type": "code",
   "execution_count": 16,
   "metadata": {
    "collapsed": false
   },
   "outputs": [
    {
     "data": {
      "text/plain": [
       "6040"
      ]
     },
     "execution_count": 16,
     "metadata": {},
     "output_type": "execute_result"
    }
   ],
   "source": [
    "#Number Of Users\n",
    "f.User_ID.nunique()"
   ]
  },
  {
   "cell_type": "code",
   "execution_count": 17,
   "metadata": {
    "collapsed": false
   },
   "outputs": [
    {
     "data": {
      "text/plain": [
       "1709"
      ]
     },
     "execution_count": 17,
     "metadata": {},
     "output_type": "execute_result"
    }
   ],
   "source": [
    "#Number of Female Users\n",
    "female = f[f.Sex=='F']\n",
    "female.User_ID.nunique()"
   ]
  },
  {
   "cell_type": "code",
   "execution_count": 18,
   "metadata": {
    "collapsed": false
   },
   "outputs": [
    {
     "data": {
      "text/plain": [
       "4331"
      ]
     },
     "execution_count": 18,
     "metadata": {},
     "output_type": "execute_result"
    }
   ],
   "source": [
    "#Number of Male Users\n",
    "male = f[f.Sex=='M']\n",
    "male.User_ID.nunique()"
   ]
  },
  {
   "cell_type": "code",
   "execution_count": 19,
   "metadata": {
    "collapsed": false,
    "scrolled": true
   },
   "outputs": [
    {
     "name": "stdout",
     "output_type": "stream",
     "text": [
      "Number of Professions: 21\n"
     ]
    },
    {
     "data": {
      "text/html": [
       "<div>\n",
       "<table border=\"1\" class=\"dataframe\">\n",
       "  <thead>\n",
       "    <tr style=\"text-align: right;\">\n",
       "      <th></th>\n",
       "      <th>Profession</th>\n",
       "      <th>User_ID</th>\n",
       "      <th>Percentage</th>\n",
       "    </tr>\n",
       "  </thead>\n",
       "  <tbody>\n",
       "    <tr>\n",
       "      <th>0</th>\n",
       "      <td>Academic</td>\n",
       "      <td>528</td>\n",
       "      <td>8.741722</td>\n",
       "    </tr>\n",
       "    <tr>\n",
       "      <th>1</th>\n",
       "      <td>Artist</td>\n",
       "      <td>267</td>\n",
       "      <td>4.420530</td>\n",
       "    </tr>\n",
       "    <tr>\n",
       "      <th>2</th>\n",
       "      <td>Clerk</td>\n",
       "      <td>173</td>\n",
       "      <td>2.864238</td>\n",
       "    </tr>\n",
       "    <tr>\n",
       "      <th>3</th>\n",
       "      <td>College Student</td>\n",
       "      <td>759</td>\n",
       "      <td>12.566225</td>\n",
       "    </tr>\n",
       "    <tr>\n",
       "      <th>4</th>\n",
       "      <td>Craftsman</td>\n",
       "      <td>70</td>\n",
       "      <td>1.158940</td>\n",
       "    </tr>\n",
       "    <tr>\n",
       "      <th>5</th>\n",
       "      <td>Customer Service</td>\n",
       "      <td>112</td>\n",
       "      <td>1.854305</td>\n",
       "    </tr>\n",
       "    <tr>\n",
       "      <th>6</th>\n",
       "      <td>Doctor</td>\n",
       "      <td>236</td>\n",
       "      <td>3.907285</td>\n",
       "    </tr>\n",
       "    <tr>\n",
       "      <th>7</th>\n",
       "      <td>Engineer</td>\n",
       "      <td>502</td>\n",
       "      <td>8.311258</td>\n",
       "    </tr>\n",
       "    <tr>\n",
       "      <th>8</th>\n",
       "      <td>Farmer</td>\n",
       "      <td>17</td>\n",
       "      <td>0.281457</td>\n",
       "    </tr>\n",
       "    <tr>\n",
       "      <th>9</th>\n",
       "      <td>HomeMaker</td>\n",
       "      <td>92</td>\n",
       "      <td>1.523179</td>\n",
       "    </tr>\n",
       "    <tr>\n",
       "      <th>10</th>\n",
       "      <td>K-12 Student</td>\n",
       "      <td>195</td>\n",
       "      <td>3.228477</td>\n",
       "    </tr>\n",
       "    <tr>\n",
       "      <th>11</th>\n",
       "      <td>Lawyer</td>\n",
       "      <td>129</td>\n",
       "      <td>2.135762</td>\n",
       "    </tr>\n",
       "    <tr>\n",
       "      <th>12</th>\n",
       "      <td>Manager</td>\n",
       "      <td>679</td>\n",
       "      <td>11.241722</td>\n",
       "    </tr>\n",
       "    <tr>\n",
       "      <th>13</th>\n",
       "      <td>Other</td>\n",
       "      <td>711</td>\n",
       "      <td>11.771523</td>\n",
       "    </tr>\n",
       "    <tr>\n",
       "      <th>14</th>\n",
       "      <td>Programmer</td>\n",
       "      <td>388</td>\n",
       "      <td>6.423841</td>\n",
       "    </tr>\n",
       "    <tr>\n",
       "      <th>15</th>\n",
       "      <td>Retired</td>\n",
       "      <td>142</td>\n",
       "      <td>2.350993</td>\n",
       "    </tr>\n",
       "    <tr>\n",
       "      <th>16</th>\n",
       "      <td>Sales</td>\n",
       "      <td>302</td>\n",
       "      <td>5.000000</td>\n",
       "    </tr>\n",
       "    <tr>\n",
       "      <th>17</th>\n",
       "      <td>Scientist</td>\n",
       "      <td>144</td>\n",
       "      <td>2.384106</td>\n",
       "    </tr>\n",
       "    <tr>\n",
       "      <th>18</th>\n",
       "      <td>Self-Employed</td>\n",
       "      <td>241</td>\n",
       "      <td>3.990066</td>\n",
       "    </tr>\n",
       "    <tr>\n",
       "      <th>19</th>\n",
       "      <td>Unemployed</td>\n",
       "      <td>72</td>\n",
       "      <td>1.192053</td>\n",
       "    </tr>\n",
       "    <tr>\n",
       "      <th>20</th>\n",
       "      <td>Writer</td>\n",
       "      <td>281</td>\n",
       "      <td>4.652318</td>\n",
       "    </tr>\n",
       "  </tbody>\n",
       "</table>\n",
       "</div>"
      ],
      "text/plain": [
       "          Profession  User_ID  Percentage\n",
       "0           Academic      528    8.741722\n",
       "1             Artist      267    4.420530\n",
       "2              Clerk      173    2.864238\n",
       "3    College Student      759   12.566225\n",
       "4          Craftsman       70    1.158940\n",
       "5   Customer Service      112    1.854305\n",
       "6             Doctor      236    3.907285\n",
       "7           Engineer      502    8.311258\n",
       "8             Farmer       17    0.281457\n",
       "9          HomeMaker       92    1.523179\n",
       "10      K-12 Student      195    3.228477\n",
       "11            Lawyer      129    2.135762\n",
       "12           Manager      679   11.241722\n",
       "13             Other      711   11.771523\n",
       "14        Programmer      388    6.423841\n",
       "15           Retired      142    2.350993\n",
       "16             Sales      302    5.000000\n",
       "17         Scientist      144    2.384106\n",
       "18     Self-Employed      241    3.990066\n",
       "19        Unemployed       72    1.192053\n",
       "20            Writer      281    4.652318"
      ]
     },
     "execution_count": 19,
     "metadata": {},
     "output_type": "execute_result"
    }
   ],
   "source": [
    "# How many profession are there in the final dataframe?\n",
    "\n",
    "print(\"Number of Professions:\",f.Profession.nunique())\n",
    "professions = f.groupby(['Profession'])['User_ID'].nunique().reset_index()\n",
    "#professions = professions.sort_values(by=['User_ID'],ascending=False)\n",
    "professions['Percentage'] = ((professions.User_ID/f.User_ID.nunique())*100)\n",
    "professions"
   ]
  },
  {
   "cell_type": "code",
   "execution_count": 20,
   "metadata": {
    "collapsed": false
   },
   "outputs": [
    {
     "data": {
      "text/plain": [
       "<matplotlib.text.Text at 0x21bad47a358>"
      ]
     },
     "execution_count": 20,
     "metadata": {},
     "output_type": "execute_result"
    },
    {
     "data": {
      "image/png": "[encoded data removed]",
      "text/plain": [
       "<matplotlib.figure.Figure at 0x21bb1fb0748>"
      ]
     },
     "metadata": {},
     "output_type": "display_data"
    }
   ],
   "source": [
    "#bar graph on number of professions.\n",
    "pos = np.arange(f.Profession.nunique())+.9  # the bar centers on the y axis\n",
    "\n",
    "plt.barh(pos,professions.User_ID, align='center')\n",
    "plt.yticks(pos, (professions.Profession))\n",
    "plt.xlabel('Count')\n",
    "plt.title('Users Profession')\n"
   ]
  },
  {
   "cell_type": "code",
   "execution_count": 21,
   "metadata": {
    "collapsed": false
   },
   "outputs": [
    {
     "name": "stdout",
     "output_type": "stream",
     "text": [
      "Number of Genre: 18\n"
     ]
    },
    {
     "data": {
      "text/html": [
       "<div>\n",
       "<table border=\"1\" class=\"dataframe\">\n",
       "  <thead>\n",
       "    <tr style=\"text-align: right;\">\n",
       "      <th></th>\n",
       "      <th>Genre</th>\n",
       "      <th>Movie_ID</th>\n",
       "    </tr>\n",
       "  </thead>\n",
       "  <tbody>\n",
       "    <tr>\n",
       "      <th>0</th>\n",
       "      <td>Action</td>\n",
       "      <td>447</td>\n",
       "    </tr>\n",
       "    <tr>\n",
       "      <th>1</th>\n",
       "      <td>Adventure</td>\n",
       "      <td>251</td>\n",
       "    </tr>\n",
       "    <tr>\n",
       "      <th>2</th>\n",
       "      <td>Animation</td>\n",
       "      <td>95</td>\n",
       "    </tr>\n",
       "    <tr>\n",
       "      <th>3</th>\n",
       "      <td>Children's</td>\n",
       "      <td>222</td>\n",
       "    </tr>\n",
       "    <tr>\n",
       "      <th>4</th>\n",
       "      <td>Comedy</td>\n",
       "      <td>1123</td>\n",
       "    </tr>\n",
       "    <tr>\n",
       "      <th>5</th>\n",
       "      <td>Crime</td>\n",
       "      <td>191</td>\n",
       "    </tr>\n",
       "    <tr>\n",
       "      <th>6</th>\n",
       "      <td>Documentary</td>\n",
       "      <td>91</td>\n",
       "    </tr>\n",
       "    <tr>\n",
       "      <th>7</th>\n",
       "      <td>Drama</td>\n",
       "      <td>1456</td>\n",
       "    </tr>\n",
       "    <tr>\n",
       "      <th>8</th>\n",
       "      <td>Fantasy</td>\n",
       "      <td>51</td>\n",
       "    </tr>\n",
       "    <tr>\n",
       "      <th>9</th>\n",
       "      <td>Film-Noir</td>\n",
       "      <td>44</td>\n",
       "    </tr>\n",
       "    <tr>\n",
       "      <th>10</th>\n",
       "      <td>Horror</td>\n",
       "      <td>282</td>\n",
       "    </tr>\n",
       "    <tr>\n",
       "      <th>11</th>\n",
       "      <td>Musical</td>\n",
       "      <td>100</td>\n",
       "    </tr>\n",
       "    <tr>\n",
       "      <th>12</th>\n",
       "      <td>Mystery</td>\n",
       "      <td>99</td>\n",
       "    </tr>\n",
       "    <tr>\n",
       "      <th>13</th>\n",
       "      <td>Romance</td>\n",
       "      <td>439</td>\n",
       "    </tr>\n",
       "    <tr>\n",
       "      <th>14</th>\n",
       "      <td>Sci-Fi</td>\n",
       "      <td>224</td>\n",
       "    </tr>\n",
       "    <tr>\n",
       "      <th>15</th>\n",
       "      <td>Thriller</td>\n",
       "      <td>428</td>\n",
       "    </tr>\n",
       "    <tr>\n",
       "      <th>16</th>\n",
       "      <td>War</td>\n",
       "      <td>124</td>\n",
       "    </tr>\n",
       "    <tr>\n",
       "      <th>17</th>\n",
       "      <td>Western</td>\n",
       "      <td>63</td>\n",
       "    </tr>\n",
       "  </tbody>\n",
       "</table>\n",
       "</div>"
      ],
      "text/plain": [
       "          Genre  Movie_ID\n",
       "0        Action       447\n",
       "1     Adventure       251\n",
       "2     Animation        95\n",
       "3    Children's       222\n",
       "4        Comedy      1123\n",
       "5         Crime       191\n",
       "6   Documentary        91\n",
       "7         Drama      1456\n",
       "8       Fantasy        51\n",
       "9     Film-Noir        44\n",
       "10       Horror       282\n",
       "11      Musical       100\n",
       "12      Mystery        99\n",
       "13      Romance       439\n",
       "14       Sci-Fi       224\n",
       "15     Thriller       428\n",
       "16          War       124\n",
       "17      Western        63"
      ]
     },
     "execution_count": 21,
     "metadata": {},
     "output_type": "execute_result"
    }
   ],
   "source": [
    "#How many Genre are there in total and their counts?\n",
    "\n",
    "print(\"Number of Genre:\",f.Genre.nunique())\n",
    "f.groupby(['Genre'])['Movie_ID'].nunique().reset_index()"
   ]
  },
  {
   "cell_type": "code",
   "execution_count": 22,
   "metadata": {
    "collapsed": false
   },
   "outputs": [
    {
     "data": {
      "text/plain": [
       "array([], dtype=int64)"
      ]
     },
     "execution_count": 22,
     "metadata": {},
     "output_type": "execute_result"
    }
   ],
   "source": [
    "f.head()\n",
    "pd.isnull(f).any(1).nonzero()[0]"
   ]
  },
  {
   "cell_type": "code",
   "execution_count": 23,
   "metadata": {
    "collapsed": false,
    "scrolled": true
   },
   "outputs": [
    {
     "data": {
      "text/html": [
       "<div>\n",
       "<table border=\"1\" class=\"dataframe\">\n",
       "  <thead>\n",
       "    <tr style=\"text-align: right;\">\n",
       "      <th></th>\n",
       "      <th>Genre</th>\n",
       "      <th>User_ID</th>\n",
       "      <th>Watched Genre %</th>\n",
       "    </tr>\n",
       "  </thead>\n",
       "  <tbody>\n",
       "    <tr>\n",
       "      <th>0</th>\n",
       "      <td>Action</td>\n",
       "      <td>1679</td>\n",
       "      <td>98.244587</td>\n",
       "    </tr>\n",
       "    <tr>\n",
       "      <th>1</th>\n",
       "      <td>Adventure</td>\n",
       "      <td>1598</td>\n",
       "      <td>93.504974</td>\n",
       "    </tr>\n",
       "    <tr>\n",
       "      <th>2</th>\n",
       "      <td>Animation</td>\n",
       "      <td>1323</td>\n",
       "      <td>77.413692</td>\n",
       "    </tr>\n",
       "    <tr>\n",
       "      <th>3</th>\n",
       "      <td>Children's</td>\n",
       "      <td>1493</td>\n",
       "      <td>87.361030</td>\n",
       "    </tr>\n",
       "    <tr>\n",
       "      <th>4</th>\n",
       "      <td>Comedy</td>\n",
       "      <td>1704</td>\n",
       "      <td>99.707431</td>\n",
       "    </tr>\n",
       "    <tr>\n",
       "      <th>5</th>\n",
       "      <td>Crime</td>\n",
       "      <td>1550</td>\n",
       "      <td>90.696314</td>\n",
       "    </tr>\n",
       "    <tr>\n",
       "      <th>6</th>\n",
       "      <td>Documentary</td>\n",
       "      <td>538</td>\n",
       "      <td>31.480398</td>\n",
       "    </tr>\n",
       "    <tr>\n",
       "      <th>7</th>\n",
       "      <td>Drama</td>\n",
       "      <td>1708</td>\n",
       "      <td>99.941486</td>\n",
       "    </tr>\n",
       "    <tr>\n",
       "      <th>8</th>\n",
       "      <td>Fantasy</td>\n",
       "      <td>1130</td>\n",
       "      <td>66.120538</td>\n",
       "    </tr>\n",
       "    <tr>\n",
       "      <th>9</th>\n",
       "      <td>Film-Noir</td>\n",
       "      <td>1049</td>\n",
       "      <td>61.380925</td>\n",
       "    </tr>\n",
       "    <tr>\n",
       "      <th>10</th>\n",
       "      <td>Horror</td>\n",
       "      <td>1357</td>\n",
       "      <td>79.403160</td>\n",
       "    </tr>\n",
       "    <tr>\n",
       "      <th>11</th>\n",
       "      <td>Musical</td>\n",
       "      <td>1328</td>\n",
       "      <td>77.706261</td>\n",
       "    </tr>\n",
       "    <tr>\n",
       "      <th>12</th>\n",
       "      <td>Mystery</td>\n",
       "      <td>1340</td>\n",
       "      <td>78.408426</td>\n",
       "    </tr>\n",
       "    <tr>\n",
       "      <th>13</th>\n",
       "      <td>Romance</td>\n",
       "      <td>1689</td>\n",
       "      <td>98.829725</td>\n",
       "    </tr>\n",
       "    <tr>\n",
       "      <th>14</th>\n",
       "      <td>Sci-Fi</td>\n",
       "      <td>1520</td>\n",
       "      <td>88.940901</td>\n",
       "    </tr>\n",
       "    <tr>\n",
       "      <th>15</th>\n",
       "      <td>Thriller</td>\n",
       "      <td>1668</td>\n",
       "      <td>97.600936</td>\n",
       "    </tr>\n",
       "    <tr>\n",
       "      <th>16</th>\n",
       "      <td>War</td>\n",
       "      <td>1561</td>\n",
       "      <td>91.339965</td>\n",
       "    </tr>\n",
       "    <tr>\n",
       "      <th>17</th>\n",
       "      <td>Western</td>\n",
       "      <td>934</td>\n",
       "      <td>54.651843</td>\n",
       "    </tr>\n",
       "  </tbody>\n",
       "</table>\n",
       "</div>"
      ],
      "text/plain": [
       "          Genre  User_ID  Watched Genre %\n",
       "0        Action     1679        98.244587\n",
       "1     Adventure     1598        93.504974\n",
       "2     Animation     1323        77.413692\n",
       "3    Children's     1493        87.361030\n",
       "4        Comedy     1704        99.707431\n",
       "5         Crime     1550        90.696314\n",
       "6   Documentary      538        31.480398\n",
       "7         Drama     1708        99.941486\n",
       "8       Fantasy     1130        66.120538\n",
       "9     Film-Noir     1049        61.380925\n",
       "10       Horror     1357        79.403160\n",
       "11      Musical     1328        77.706261\n",
       "12      Mystery     1340        78.408426\n",
       "13      Romance     1689        98.829725\n",
       "14       Sci-Fi     1520        88.940901\n",
       "15     Thriller     1668        97.600936\n",
       "16          War     1561        91.339965\n",
       "17      Western      934        54.651843"
      ]
     },
     "execution_count": 23,
     "metadata": {},
     "output_type": "execute_result"
    }
   ],
   "source": [
    "#Most watched Genre by Females\n",
    "female_genre = f[f.Sex=='F']\n",
    "female_genre = female_genre.groupby(['Genre'])['User_ID'].nunique().reset_index()\n",
    "female_genre['Watched Genre %'] = (female_genre.User_ID/female.User_ID.nunique())*100\n",
    "#female.sort_values(by=['User_ID'],ascending=False)\n",
    "female_genre\n"
   ]
  },
  {
   "cell_type": "code",
   "execution_count": 24,
   "metadata": {
    "collapsed": false,
    "scrolled": true
   },
   "outputs": [
    {
     "data": {
      "text/html": [
       "<div>\n",
       "<table border=\"1\" class=\"dataframe\">\n",
       "  <thead>\n",
       "    <tr style=\"text-align: right;\">\n",
       "      <th></th>\n",
       "      <th>Genre</th>\n",
       "      <th>User_ID</th>\n",
       "      <th>Watched Genre %</th>\n",
       "    </tr>\n",
       "  </thead>\n",
       "  <tbody>\n",
       "    <tr>\n",
       "      <th>0</th>\n",
       "      <td>Action</td>\n",
       "      <td>4307</td>\n",
       "      <td>99.445855</td>\n",
       "    </tr>\n",
       "    <tr>\n",
       "      <th>1</th>\n",
       "      <td>Adventure</td>\n",
       "      <td>4180</td>\n",
       "      <td>96.513507</td>\n",
       "    </tr>\n",
       "    <tr>\n",
       "      <th>2</th>\n",
       "      <td>Animation</td>\n",
       "      <td>3414</td>\n",
       "      <td>78.827061</td>\n",
       "    </tr>\n",
       "    <tr>\n",
       "      <th>3</th>\n",
       "      <td>Children's</td>\n",
       "      <td>3762</td>\n",
       "      <td>86.862157</td>\n",
       "    </tr>\n",
       "    <tr>\n",
       "      <th>4</th>\n",
       "      <td>Comedy</td>\n",
       "      <td>4325</td>\n",
       "      <td>99.861464</td>\n",
       "    </tr>\n",
       "    <tr>\n",
       "      <th>5</th>\n",
       "      <td>Crime</td>\n",
       "      <td>4067</td>\n",
       "      <td>93.904410</td>\n",
       "    </tr>\n",
       "    <tr>\n",
       "      <th>6</th>\n",
       "      <td>Documentary</td>\n",
       "      <td>1626</td>\n",
       "      <td>37.543293</td>\n",
       "    </tr>\n",
       "    <tr>\n",
       "      <th>7</th>\n",
       "      <td>Drama</td>\n",
       "      <td>4328</td>\n",
       "      <td>99.930732</td>\n",
       "    </tr>\n",
       "    <tr>\n",
       "      <th>8</th>\n",
       "      <td>Fantasy</td>\n",
       "      <td>2940</td>\n",
       "      <td>67.882706</td>\n",
       "    </tr>\n",
       "    <tr>\n",
       "      <th>9</th>\n",
       "      <td>Film-Noir</td>\n",
       "      <td>3101</td>\n",
       "      <td>71.600092</td>\n",
       "    </tr>\n",
       "    <tr>\n",
       "      <th>10</th>\n",
       "      <td>Horror</td>\n",
       "      <td>3887</td>\n",
       "      <td>89.748326</td>\n",
       "    </tr>\n",
       "    <tr>\n",
       "      <th>11</th>\n",
       "      <td>Musical</td>\n",
       "      <td>3210</td>\n",
       "      <td>74.116832</td>\n",
       "    </tr>\n",
       "    <tr>\n",
       "      <th>12</th>\n",
       "      <td>Mystery</td>\n",
       "      <td>3532</td>\n",
       "      <td>81.551605</td>\n",
       "    </tr>\n",
       "    <tr>\n",
       "      <th>13</th>\n",
       "      <td>Romance</td>\n",
       "      <td>4192</td>\n",
       "      <td>96.790580</td>\n",
       "    </tr>\n",
       "    <tr>\n",
       "      <th>14</th>\n",
       "      <td>Sci-Fi</td>\n",
       "      <td>4150</td>\n",
       "      <td>95.820827</td>\n",
       "    </tr>\n",
       "    <tr>\n",
       "      <th>15</th>\n",
       "      <td>Thriller</td>\n",
       "      <td>4289</td>\n",
       "      <td>99.030247</td>\n",
       "    </tr>\n",
       "    <tr>\n",
       "      <th>16</th>\n",
       "      <td>War</td>\n",
       "      <td>3994</td>\n",
       "      <td>92.218887</td>\n",
       "    </tr>\n",
       "    <tr>\n",
       "      <th>17</th>\n",
       "      <td>Western</td>\n",
       "      <td>2989</td>\n",
       "      <td>69.014085</td>\n",
       "    </tr>\n",
       "  </tbody>\n",
       "</table>\n",
       "</div>"
      ],
      "text/plain": [
       "          Genre  User_ID  Watched Genre %\n",
       "0        Action     4307        99.445855\n",
       "1     Adventure     4180        96.513507\n",
       "2     Animation     3414        78.827061\n",
       "3    Children's     3762        86.862157\n",
       "4        Comedy     4325        99.861464\n",
       "5         Crime     4067        93.904410\n",
       "6   Documentary     1626        37.543293\n",
       "7         Drama     4328        99.930732\n",
       "8       Fantasy     2940        67.882706\n",
       "9     Film-Noir     3101        71.600092\n",
       "10       Horror     3887        89.748326\n",
       "11      Musical     3210        74.116832\n",
       "12      Mystery     3532        81.551605\n",
       "13      Romance     4192        96.790580\n",
       "14       Sci-Fi     4150        95.820827\n",
       "15     Thriller     4289        99.030247\n",
       "16          War     3994        92.218887\n",
       "17      Western     2989        69.014085"
      ]
     },
     "execution_count": 24,
     "metadata": {},
     "output_type": "execute_result"
    }
   ],
   "source": [
    "#Most watched Genre by Males\n",
    "male_genre = f[f.Sex=='M']\n",
    "male_genre = male_genre.groupby(['Genre'])['User_ID'].nunique().reset_index()\n",
    "male_genre['Watched Genre %'] = (male_genre.User_ID/male.User_ID.nunique())*100\n",
    "#female.sort_values(by=['User_ID'],ascending=False)\n",
    "male_genre"
   ]
  },
  {
   "cell_type": "code",
   "execution_count": 28,
   "metadata": {
    "collapsed": false,
    "scrolled": true
   },
   "outputs": [
    {
     "data": {
      "text/html": [
       "<div>\n",
       "<table border=\"1\" class=\"dataframe\">\n",
       "  <thead>\n",
       "    <tr style=\"text-align: right;\">\n",
       "      <th></th>\n",
       "      <th>Genre</th>\n",
       "      <th>User_ID</th>\n",
       "    </tr>\n",
       "  </thead>\n",
       "  <tbody>\n",
       "    <tr>\n",
       "      <th>4</th>\n",
       "      <td>Comedy</td>\n",
       "      <td>222</td>\n",
       "    </tr>\n",
       "    <tr>\n",
       "      <th>7</th>\n",
       "      <td>Drama</td>\n",
       "      <td>222</td>\n",
       "    </tr>\n",
       "    <tr>\n",
       "      <th>0</th>\n",
       "      <td>Action</td>\n",
       "      <td>220</td>\n",
       "    </tr>\n",
       "    <tr>\n",
       "      <th>15</th>\n",
       "      <td>Thriller</td>\n",
       "      <td>216</td>\n",
       "    </tr>\n",
       "    <tr>\n",
       "      <th>13</th>\n",
       "      <td>Romance</td>\n",
       "      <td>214</td>\n",
       "    </tr>\n",
       "    <tr>\n",
       "      <th>14</th>\n",
       "      <td>Sci-Fi</td>\n",
       "      <td>212</td>\n",
       "    </tr>\n",
       "    <tr>\n",
       "      <th>1</th>\n",
       "      <td>Adventure</td>\n",
       "      <td>210</td>\n",
       "    </tr>\n",
       "    <tr>\n",
       "      <th>3</th>\n",
       "      <td>Children's</td>\n",
       "      <td>202</td>\n",
       "    </tr>\n",
       "    <tr>\n",
       "      <th>2</th>\n",
       "      <td>Animation</td>\n",
       "      <td>194</td>\n",
       "    </tr>\n",
       "    <tr>\n",
       "      <th>5</th>\n",
       "      <td>Crime</td>\n",
       "      <td>186</td>\n",
       "    </tr>\n",
       "    <tr>\n",
       "      <th>16</th>\n",
       "      <td>War</td>\n",
       "      <td>185</td>\n",
       "    </tr>\n",
       "    <tr>\n",
       "      <th>10</th>\n",
       "      <td>Horror</td>\n",
       "      <td>184</td>\n",
       "    </tr>\n",
       "    <tr>\n",
       "      <th>11</th>\n",
       "      <td>Musical</td>\n",
       "      <td>167</td>\n",
       "    </tr>\n",
       "    <tr>\n",
       "      <th>12</th>\n",
       "      <td>Mystery</td>\n",
       "      <td>157</td>\n",
       "    </tr>\n",
       "    <tr>\n",
       "      <th>8</th>\n",
       "      <td>Fantasy</td>\n",
       "      <td>155</td>\n",
       "    </tr>\n",
       "    <tr>\n",
       "      <th>17</th>\n",
       "      <td>Western</td>\n",
       "      <td>113</td>\n",
       "    </tr>\n",
       "    <tr>\n",
       "      <th>9</th>\n",
       "      <td>Film-Noir</td>\n",
       "      <td>101</td>\n",
       "    </tr>\n",
       "    <tr>\n",
       "      <th>6</th>\n",
       "      <td>Documentary</td>\n",
       "      <td>56</td>\n",
       "    </tr>\n",
       "  </tbody>\n",
       "</table>\n",
       "</div>"
      ],
      "text/plain": [
       "          Genre  User_ID\n",
       "4        Comedy      222\n",
       "7         Drama      222\n",
       "0        Action      220\n",
       "15     Thriller      216\n",
       "13      Romance      214\n",
       "14       Sci-Fi      212\n",
       "1     Adventure      210\n",
       "3    Children's      202\n",
       "2     Animation      194\n",
       "5         Crime      186\n",
       "16          War      185\n",
       "10       Horror      184\n",
       "11      Musical      167\n",
       "12      Mystery      157\n",
       "8       Fantasy      155\n",
       "17      Western      113\n",
       "9     Film-Noir      101\n",
       "6   Documentary       56"
      ]
     },
     "execution_count": 28,
     "metadata": {},
     "output_type": "execute_result"
    }
   ],
   "source": [
    "#What Genre is mostly watched by Under 18 people\n",
    "f.head()\n",
    "under18 = f[f.Age_Group==1]\n",
    "under18 = under18.groupby(['Genre'])['User_ID'].nunique().reset_index()\n",
    "under18.sort_values(by=['User_ID'],ascending=False)\n"
   ]
  },
  {
   "cell_type": "code",
   "execution_count": 27,
   "metadata": {
    "collapsed": false
   },
   "outputs": [
    {
     "data": {
      "text/plain": [
       "Genre\n",
       "Action         3.473946\n",
       "Adventure      3.436639\n",
       "Animation      3.691735\n",
       "Children's     3.462534\n",
       "Comedy         3.543695\n",
       "Crime          3.713084\n",
       "Documentary    3.965517\n",
       "Drama          3.763830\n",
       "Fantasy        3.396568\n",
       "Film-Noir      4.075188\n",
       "Horror         3.279035\n",
       "Musical        3.640094\n",
       "Mystery        3.674377\n",
       "Romance        3.590157\n",
       "Sci-Fi         3.401993\n",
       "Thriller       3.588677\n",
       "War            3.922918\n",
       "Western        3.676669\n",
       "Name: Rating, dtype: float64"
      ]
     },
     "execution_count": 27,
     "metadata": {},
     "output_type": "execute_result"
    }
   ],
   "source": [
    "#Mean ratings of All the Users on Different Genre.\n",
    "f=final\n",
    "ratings = f.groupby(['Genre'])\n",
    "Mean_Ratings = ratings['Rating'].mean()\n",
    "Mean_Ratings"
   ]
  },
  {
   "cell_type": "code",
   "execution_count": 29,
   "metadata": {
    "collapsed": false
   },
   "outputs": [],
   "source": [
    "#Mean ratings of Male Users on Different Genre.\n",
    "\n",
    "#ratings = ratings.apply(lambda x: x[x['User_ID'] == 4])\n",
    "ratings = f[f.Sex=='M']\n",
    "ratings = ratings.groupby('Genre')\n",
    "M_Mean = ratings['Rating'].mean()"
   ]
  },
  {
   "cell_type": "code",
   "execution_count": 30,
   "metadata": {
    "collapsed": false
   },
   "outputs": [],
   "source": [
    "#Mean ratings of Female Users on Different Genre.\n",
    "\n",
    "#ratings = ratings.apply(lambda x: x[x['User_ID'] == 4])\n",
    "ratings = f[f.Sex=='F']\n",
    "ratings = ratings.groupby('Genre')\n",
    "F_Mean = ratings['Rating'].mean()\n"
   ]
  },
  {
   "cell_type": "code",
   "execution_count": 31,
   "metadata": {
    "collapsed": false
   },
   "outputs": [],
   "source": [
    "#Converting the required values from the dataframe to numpy variables for plotting the bar graph\n",
    "ff = final.drop_duplicates('Genre')\n",
    "ff = ff['Genre']\n",
    "numpyMatrix = ff.as_matrix()\n",
    "F_MeanNumpy = F_Mean.as_matrix()\n",
    "M_MeanNumpy = M_Mean.as_matrix()"
   ]
  },
  {
   "cell_type": "code",
   "execution_count": 32,
   "metadata": {
    "collapsed": false,
    "scrolled": false
   },
   "outputs": [
    {
     "data": {
      "image/png": "[encoded data removed]",
      "text/plain": [
       "<matplotlib.figure.Figure at 0x21bbe0c0898>"
      ]
     },
     "metadata": {},
     "output_type": "display_data"
    }
   ],
   "source": [
    "#Plotting Graph between the watched genre of Male VS Female Users\n",
    "ff = final.drop_duplicates('Genre')\n",
    "ff = ff['Genre']\n",
    "M_GenreNumpy = male_genre.as_matrix()\n",
    "F_GenreNumpy = female_genre.as_matrix()\n",
    "n_groups = ff.count()\n",
    "\n",
    "means_men = M_MeanNumpy\n",
    "means_women = F_MeanNumpy\n",
    "\n",
    "fig, ax = plt.subplots()\n",
    "\n",
    "index = np.arange(n_groups)\n",
    "bar_width = 0.35\n",
    "\n",
    "opacity = 0.4\n",
    "#error_config = {'ecolor': '0.3'}\n",
    "\n",
    "rects1 = plt.barh(index, means_men, bar_width,\n",
    "                 alpha=opacity,\n",
    "                 color='b',\n",
    "                 #error_kw=error_config,\n",
    "                 label='Male')\n",
    "\n",
    "rects2 = plt.barh(index + bar_width, means_women, bar_width,\n",
    "                 alpha=opacity,\n",
    "                 color='r',\n",
    "                 #error_kw=error_config,\n",
    "                 label='Female')\n",
    "\n",
    "plt.xlabel('Watched Genre Percentage')\n",
    "plt.ylabel('Genre')\n",
    "plt.title('Watched Genre Comparison of Male and Female Users')\n",
    "plt.yticks(index + bar_width, numpyMatrix)\n",
    "plt.legend(loc=1,prop={'size':10})\n",
    "\n",
    "plt.tight_layout()\n",
    "plt.show()"
   ]
  },
  {
   "cell_type": "code",
   "execution_count": 33,
   "metadata": {
    "collapsed": false,
    "scrolled": true
   },
   "outputs": [
    {
     "data": {
      "image/png": "[encoded data removed]",
      "text/plain": [
       "<matplotlib.figure.Figure at 0x21bba0f1e48>"
      ]
     },
     "metadata": {},
     "output_type": "display_data"
    }
   ],
   "source": [
    "#Plotting Graph between the Mean ratings of Male VS Female Users\n",
    "\n",
    "n_groups = ff.count()\n",
    "\n",
    "means_men = M_MeanNumpy\n",
    "means_women = F_MeanNumpy\n",
    "\n",
    "fig, ax = plt.subplots()\n",
    "\n",
    "index = np.arange(n_groups)\n",
    "bar_width = 0.35\n",
    "\n",
    "opacity = 0.4\n",
    "#error_config = {'ecolor': '0.3'}\n",
    "\n",
    "rects1 = plt.barh(index, means_men, bar_width,\n",
    "                 alpha=opacity,\n",
    "                 color='b',\n",
    "                 #error_kw=error_config,\n",
    "                 label='Male')\n",
    "\n",
    "rects2 = plt.barh(index + bar_width, means_women, bar_width,\n",
    "                 alpha=opacity,\n",
    "                 color='r',\n",
    "                 #error_kw=error_config,\n",
    "                 label='Female')\n",
    "\n",
    "plt.xlabel('Mean Ratings')\n",
    "plt.ylabel('Genre')\n",
    "plt.title('Mean Ratings Comparison of Male and Female Users')\n",
    "plt.yticks(index + bar_width, numpyMatrix)\n",
    "plt.legend(loc=1,prop={'size':10})\n",
    "\n",
    "plt.tight_layout()\n",
    "plt.show()"
   ]
  },
  {
   "cell_type": "code",
   "execution_count": 35,
   "metadata": {
    "collapsed": false
   },
   "outputs": [
    {
     "data": {
      "text/plain": [
       "Movie_Name\n",
       "Bittersweet Motel                                                  5.000000\n",
       "Ulysses (Ulisse)                                                   5.000000\n",
       "Lured                                                              5.000000\n",
       "Follow the Bitch                                                   5.000000\n",
       "Song of Freedom                                                    5.000000\n",
       "Gate of Heavenly Peace, The                                        5.000000\n",
       "Schlafes Bruder (Brother of Sleep)                                 5.000000\n",
       "One Little Indian                                                  5.000000\n",
       "Baby, The                                                          5.000000\n",
       "Smashing Time                                                      5.000000\n",
       "I Am Cuba (Soy Cuba/Ya Kuba)                                       4.800000\n",
       "Lamerica                                                           4.750000\n",
       "Apple, The (Sib)                                                   4.666667\n",
       "Sanjuro                                                            4.608696\n",
       "Seven Samurai (The Magnificent Seven) (Shichinin no samurai)       4.560510\n",
       "Shawshank Redemption, The                                          4.554558\n",
       "Godfather, The                                                     4.524966\n",
       "Close Shave, A                                                     4.520548\n",
       "Usual Suspects, The                                                4.517106\n",
       "Schindler's List                                                   4.510417\n",
       "Wrong Trousers, The                                                4.507937\n",
       "Bells, The                                                         4.500000\n",
       "Hour of the Pig, The                                               4.500000\n",
       "Skipped Parts                                                      4.500000\n",
       "Dry Cleaning (Nettoyage à sec)                                     4.500000\n",
       "Callejón de los milagros, El                                       4.500000\n",
       "Dangerous Game                                                     4.500000\n",
       "Mamma Roma                                                         4.500000\n",
       "Inheritors, The (Die Siebtelbauern)                                4.500000\n",
       "Sunset Blvd. (a.k.a. Sunset Boulevard)                             4.491489\n",
       "                                                                     ...   \n",
       "Waltzes from Vienna                                                1.000000\n",
       "Fantastic Night, The (La Nuit Fantastique)                         1.000000\n",
       "Bloody Child, The                                                  1.000000\n",
       "Shadows (Cienie)                                                   1.000000\n",
       "Low Life, The                                                      1.000000\n",
       "Even Dwarfs Started Small (Auch Zwerge haben klein angefangen)     1.000000\n",
       "Hillbillys in a Haunted House                                      1.000000\n",
       "Underworld                                                         1.000000\n",
       "Get Over It                                                        1.000000\n",
       "Uninvited Guest, An                                                1.000000\n",
       "Loves of Carmen, The                                               1.000000\n",
       "Nueba Yol                                                          1.000000\n",
       "McCullochs, The                                                    1.000000\n",
       "Elstree Calling                                                    1.000000\n",
       "Spring Fever USA (a.k.a. Lauderdale)                               1.000000\n",
       "Sleepover                                                          1.000000\n",
       "Terror in a Texas Town                                             1.000000\n",
       "Silence of the Palace, The (Saimt el Qusur)                        1.000000\n",
       "Lotto Land                                                         1.000000\n",
       "Kestrel's Eye (Falkens öga)                                        1.000000\n",
       "Diebinnen                                                          1.000000\n",
       "Venice/Venice                                                      1.000000\n",
       "Santa with Muscles                                                 1.000000\n",
       "Torso (Corpi Presentano Tracce di Violenza Carnale)                1.000000\n",
       "White Boys                                                         1.000000\n",
       "Wirey Spindell                                                     1.000000\n",
       "Little Indian, Big City (Un indien dans la ville)                  1.000000\n",
       "Mutters Courage                                                    1.000000\n",
       "Blood Spattered Bride, The (La Novia Ensangrentada)                1.000000\n",
       "Cheetah                                                            1.000000\n",
       "Name: Rating, dtype: float64"
      ]
     },
     "execution_count": 35,
     "metadata": {},
     "output_type": "execute_result"
    }
   ],
   "source": [
    "#what movie has highest average rating\n",
    "\n",
    "high_ratings=f.groupby('Movie_Name')['Rating'].mean()\n",
    "high_ratings.sort_values(ascending=False)"
   ]
  },
  {
   "cell_type": "code",
   "execution_count": 36,
   "metadata": {
    "collapsed": false
   },
   "outputs": [
    {
     "data": {
      "text/html": [
       "<div>\n",
       "<table border=\"1\" class=\"dataframe\">\n",
       "  <thead>\n",
       "    <tr style=\"text-align: right;\">\n",
       "      <th></th>\n",
       "      <th>Movie_ID</th>\n",
       "      <th>Movie_Name</th>\n",
       "      <th>Year</th>\n",
       "      <th>Genre</th>\n",
       "      <th>User_ID</th>\n",
       "      <th>Sex</th>\n",
       "      <th>Age_Group</th>\n",
       "      <th>Occupation</th>\n",
       "      <th>Profession</th>\n",
       "      <th>Rating</th>\n",
       "    </tr>\n",
       "  </thead>\n",
       "  <tbody>\n",
       "    <tr>\n",
       "      <th>0</th>\n",
       "      <td>1</td>\n",
       "      <td>Toy Story</td>\n",
       "      <td>1995</td>\n",
       "      <td>Animation</td>\n",
       "      <td>1</td>\n",
       "      <td>F</td>\n",
       "      <td>1</td>\n",
       "      <td>10</td>\n",
       "      <td>K-12 Student</td>\n",
       "      <td>5</td>\n",
       "    </tr>\n",
       "    <tr>\n",
       "      <th>2077</th>\n",
       "      <td>1</td>\n",
       "      <td>Toy Story</td>\n",
       "      <td>1995</td>\n",
       "      <td>Children's</td>\n",
       "      <td>1</td>\n",
       "      <td>F</td>\n",
       "      <td>1</td>\n",
       "      <td>10</td>\n",
       "      <td>K-12 Student</td>\n",
       "      <td>5</td>\n",
       "    </tr>\n",
       "    <tr>\n",
       "      <th>4154</th>\n",
       "      <td>1</td>\n",
       "      <td>Toy Story</td>\n",
       "      <td>1995</td>\n",
       "      <td>Comedy</td>\n",
       "      <td>1</td>\n",
       "      <td>F</td>\n",
       "      <td>1</td>\n",
       "      <td>10</td>\n",
       "      <td>K-12 Student</td>\n",
       "      <td>5</td>\n",
       "    </tr>\n",
       "  </tbody>\n",
       "</table>\n",
       "</div>"
      ],
      "text/plain": [
       "      Movie_ID  Movie_Name  Year       Genre  User_ID Sex  Age_Group  \\\n",
       "0            1  Toy Story   1995   Animation        1   F          1   \n",
       "2077         1  Toy Story   1995  Children's        1   F          1   \n",
       "4154         1  Toy Story   1995      Comedy        1   F          1   \n",
       "\n",
       "      Occupation    Profession  Rating  \n",
       "0             10  K-12 Student       5  \n",
       "2077          10  K-12 Student       5  \n",
       "4154          10  K-12 Student       5  "
      ]
     },
     "execution_count": 36,
     "metadata": {},
     "output_type": "execute_result"
    }
   ],
   "source": [
    "f=final\n",
    "f[(f.User_ID==1) & (f.Movie_ID==1)]"
   ]
  },
  {
   "cell_type": "code",
   "execution_count": 37,
   "metadata": {
    "collapsed": false
   },
   "outputs": [],
   "source": [
    "#Using the below dataframe for calculating the Solutions for the recommendation problem.\n",
    "df1.head()\n",
    "df1.columns = [x.strip().replace(' ', '_') for x in df1.columns]\n",
    "movie_lens = df1.merge(Users)\n",
    "#Replacing the space in the column names\n"
   ]
  },
  {
   "cell_type": "code",
   "execution_count": 38,
   "metadata": {
    "collapsed": true
   },
   "outputs": [],
   "source": [
    "#classification of M/F according to age group/Profession"
   ]
  },
  {
   "cell_type": "code",
   "execution_count": 39,
   "metadata": {
    "collapsed": false
   },
   "outputs": [
    {
     "data": {
      "text/plain": [
       "Age_Group\n",
       "1     3.549520\n",
       "18    3.507573\n",
       "25    3.545235\n",
       "35    3.618162\n",
       "45    3.638062\n",
       "50    3.714512\n",
       "56    3.766632\n",
       "Name: Rating, dtype: float64"
      ]
     },
     "execution_count": 39,
     "metadata": {},
     "output_type": "execute_result"
    }
   ],
   "source": [
    "#Mean Ratings based on Age Group and Visualizing it\n",
    "age_ratings=movie_lens.groupby('Age_Group')['Rating'].mean()\n",
    "age_ratings"
   ]
  },
  {
   "cell_type": "code",
   "execution_count": 40,
   "metadata": {
    "collapsed": false
   },
   "outputs": [
    {
     "data": {
      "text/plain": [
       "<matplotlib.text.Text at 0x21bb523b160>"
      ]
     },
     "execution_count": 40,
     "metadata": {},
     "output_type": "execute_result"
    },
    {
     "data": {
      "image/png": "[encoded data removed]",
      "text/plain": [
       "<matplotlib.figure.Figure at 0x21bb77b9b70>"
      ]
     },
     "metadata": {},
     "output_type": "display_data"
    }
   ],
   "source": [
    "pos = np.arange(movie_lens.Age_Group.nunique())  # the bar centers on the y axis\n",
    "plt.barh(pos,movie_lens.groupby('Age_Group')['Rating'].mean(), align='center')\n",
    "plt.yticks(pos, (age_ratings.index))\n",
    "plt.xlabel('Mean Ratings')\n",
    "plt.ylabel('Age Group')\n",
    "plt.title('Age Group Mean Ratings')"
   ]
  },
  {
   "cell_type": "code",
   "execution_count": 41,
   "metadata": {
    "collapsed": false
   },
   "outputs": [
    {
     "data": {
      "text/plain": [
       "Profession\n",
       "Academic            3.576642\n",
       "Artist              3.573081\n",
       "Clerk               3.656516\n",
       "College Student     3.536793\n",
       "Craftsman           3.530117\n",
       "Customer Service    3.537529\n",
       "Doctor              3.661578\n",
       "Engineer            3.613574\n",
       "Farmer              3.466741\n",
       "HomeMaker           3.656589\n",
       "K-12 Student        3.532675\n",
       "Lawyer              3.617371\n",
       "Manager             3.599772\n",
       "Other               3.537544\n",
       "Programmer          3.654001\n",
       "Retired             3.781736\n",
       "Sales               3.618481\n",
       "Scientist           3.689774\n",
       "Self-Employed       3.596575\n",
       "Unemployed          3.414050\n",
       "Writer              3.497392\n",
       "Name: Rating, dtype: float64"
      ]
     },
     "execution_count": 41,
     "metadata": {},
     "output_type": "execute_result"
    }
   ],
   "source": [
    "#Mean Ratings based on Profession\n",
    "profession_ratings=movie_lens.groupby('Profession')['Rating'].mean()\n",
    "profession_ratings"
   ]
  },
  {
   "cell_type": "code",
   "execution_count": 42,
   "metadata": {
    "collapsed": false
   },
   "outputs": [
    {
     "data": {
      "image/png": "[encoded data removed]",
      "text/plain": [
       "<matplotlib.figure.Figure at 0x21bb54e10f0>"
      ]
     },
     "metadata": {},
     "output_type": "display_data"
    }
   ],
   "source": [
    "pos = np.arange(movie_lens.Profession.nunique())  # the bar centers on the y axis\n",
    "plt.barh(pos,movie_lens.groupby('Profession')['Rating'].mean(), align='center')\n",
    "plt.yticks(pos, (profession_ratings.index))\n",
    "plt.xlabel('Mean Ratings')\n",
    "plt.ylabel('Profession')\n",
    "plt.title('Profession Mean Ratings')\n",
    "\n",
    "plt.show()"
   ]
  },
  {
   "cell_type": "code",
   "execution_count": 120,
   "metadata": {
    "collapsed": false
   },
   "outputs": [
    {
     "data": {
      "text/plain": [
       "3.581564453029317"
      ]
     },
     "execution_count": 120,
     "metadata": {},
     "output_type": "execute_result"
    }
   ],
   "source": [
    "#Mean Rating of a specific user\n",
    "\n",
    "ratings = movie_lens\n",
    "ratings['Rating'].mean()"
   ]
  },
  {
   "cell_type": "code",
   "execution_count": 44,
   "metadata": {
    "collapsed": false
   },
   "outputs": [
    {
     "data": {
      "text/plain": [
       "(1000209, 12)"
      ]
     },
     "execution_count": 44,
     "metadata": {},
     "output_type": "execute_result"
    }
   ],
   "source": [
    "movie_lens.shape"
   ]
  },
  {
   "cell_type": "code",
   "execution_count": 45,
   "metadata": {
    "collapsed": true
   },
   "outputs": [],
   "source": [
    "#Dividing the data into Training and Testing set.\n",
    "\n",
    "train, test = train_test_split(movie_lens, test_size = 0.2)"
   ]
  },
  {
   "cell_type": "code",
   "execution_count": 46,
   "metadata": {
    "collapsed": false
   },
   "outputs": [
    {
     "data": {
      "text/plain": [
       "(800167, 12)"
      ]
     },
     "execution_count": 46,
     "metadata": {},
     "output_type": "execute_result"
    }
   ],
   "source": [
    "train.shape"
   ]
  },
  {
   "cell_type": "code",
   "execution_count": 47,
   "metadata": {
    "collapsed": false
   },
   "outputs": [
    {
     "data": {
      "text/plain": [
       "(200042, 12)"
      ]
     },
     "execution_count": 47,
     "metadata": {},
     "output_type": "execute_result"
    }
   ],
   "source": [
    "test.shape"
   ]
  },
  {
   "cell_type": "code",
   "execution_count": 48,
   "metadata": {
    "collapsed": true
   },
   "outputs": [],
   "source": [
    "def compute_rmse(y_pred, y_true):\n",
    "    \"\"\" Compute Root Mean Squared Error. \"\"\"\n",
    "    \n",
    "    return np.sqrt(np.mean(np.power(y_pred - y_true, 2)))"
   ]
  },
  {
   "cell_type": "code",
   "execution_count": 49,
   "metadata": {
    "collapsed": true
   },
   "outputs": [],
   "source": [
    "def evaluate(estimate_f):\n",
    "    \"\"\" RMSE-based predictive performance evaluation with pandas. \"\"\"\n",
    "    \n",
    "    ids_to_estimate = zip(test.User_ID, test.Movie_ID)\n",
    "    estimated = np.array([estimate_f(u,i) for (u,i) in ids_to_estimate])\n",
    "    real = test.Rating.values\n",
    "    return compute_rmse(estimated, real)"
   ]
  },
  {
   "cell_type": "code",
   "execution_count": 50,
   "metadata": {
    "collapsed": true
   },
   "outputs": [],
   "source": [
    "def my_estimate_function(user_id,movie_id):\n",
    "    return 3"
   ]
  },
  {
   "cell_type": "code",
   "execution_count": 51,
   "metadata": {
    "collapsed": false
   },
   "outputs": [
    {
     "name": "stdout",
     "output_type": "stream",
     "text": [
      "RMSE for my estimate function 1.25873836492\n"
     ]
    }
   ],
   "source": [
    "print('RMSE for my estimate function %s' % evaluate(my_estimate_function))"
   ]
  },
  {
   "cell_type": "code",
   "execution_count": null,
   "metadata": {
    "collapsed": true
   },
   "outputs": [],
   "source": []
  },
  {
   "cell_type": "code",
   "execution_count": null,
   "metadata": {
    "collapsed": true
   },
   "outputs": [],
   "source": []
  },
  {
   "cell_type": "code",
   "execution_count": 52,
   "metadata": {
    "collapsed": false
   },
   "outputs": [
    {
     "name": "stdout",
     "output_type": "stream",
     "text": [
      "RMSE for estimate1: 1.03591950101\n"
     ]
    }
   ],
   "source": [
    "#Content-based Filterting using Mean Ratings\n",
    "\n",
    "def content_mean(user_id, movie_id):\n",
    "    \"\"\" Simple content-filtering based on mean ratings. \"\"\"\n",
    "    \n",
    "    user_condition = train.User_ID == user_id\n",
    "    return train.loc[user_condition, 'Rating'].mean()\n",
    "\n",
    "print ('RMSE for estimate1: %s' % evaluate(content_mean))\n"
   ]
  },
  {
   "cell_type": "code",
   "execution_count": 53,
   "metadata": {
    "collapsed": false
   },
   "outputs": [
    {
     "name": "stdout",
     "output_type": "stream",
     "text": [
      "RMSE for Estimate 2 0.977765812754\n"
     ]
    }
   ],
   "source": [
    "#Collaborative-based Filtering using Mean Ratings\n",
    "\n",
    "def collab_mean(user_id, movie_id):\n",
    "    user_condition = train.User_ID != user_id\n",
    "    movie_condition = train.Movie_ID == movie_id\n",
    "    ratings_by_others = train.loc[user_condition & movie_condition]\n",
    "    if ratings_by_others.empty:\n",
    "        return 3.0\n",
    "    else:\n",
    "        return ratings_by_others.Rating.mean()\n",
    "    \n",
    "print('RMSE for Estimate 2 %s' % evaluate(collab_mean))\n",
    "\n",
    "\n"
   ]
  },
  {
   "cell_type": "code",
   "execution_count": 54,
   "metadata": {
    "collapsed": false
   },
   "outputs": [
    {
     "data": {
      "text/html": [
       "<div>\n",
       "<table border=\"1\" class=\"dataframe\">\n",
       "  <thead>\n",
       "    <tr style=\"text-align: right;\">\n",
       "      <th></th>\n",
       "      <th>Sex</th>\n",
       "      <th>Age_Group</th>\n",
       "      <th>Occupation</th>\n",
       "      <th>Zipcode</th>\n",
       "      <th>Profession</th>\n",
       "    </tr>\n",
       "    <tr>\n",
       "      <th>User_ID</th>\n",
       "      <th></th>\n",
       "      <th></th>\n",
       "      <th></th>\n",
       "      <th></th>\n",
       "      <th></th>\n",
       "    </tr>\n",
       "  </thead>\n",
       "  <tbody>\n",
       "    <tr>\n",
       "      <th>1</th>\n",
       "      <td>F</td>\n",
       "      <td>1</td>\n",
       "      <td>10</td>\n",
       "      <td>48067</td>\n",
       "      <td>K-12 Student</td>\n",
       "    </tr>\n",
       "    <tr>\n",
       "      <th>2</th>\n",
       "      <td>M</td>\n",
       "      <td>56</td>\n",
       "      <td>16</td>\n",
       "      <td>70072</td>\n",
       "      <td>Self-Employed</td>\n",
       "    </tr>\n",
       "    <tr>\n",
       "      <th>3</th>\n",
       "      <td>M</td>\n",
       "      <td>25</td>\n",
       "      <td>15</td>\n",
       "      <td>55117</td>\n",
       "      <td>Scientist</td>\n",
       "    </tr>\n",
       "    <tr>\n",
       "      <th>4</th>\n",
       "      <td>M</td>\n",
       "      <td>45</td>\n",
       "      <td>7</td>\n",
       "      <td>2460</td>\n",
       "      <td>Manager</td>\n",
       "    </tr>\n",
       "    <tr>\n",
       "      <th>5</th>\n",
       "      <td>M</td>\n",
       "      <td>25</td>\n",
       "      <td>20</td>\n",
       "      <td>55455</td>\n",
       "      <td>Writer</td>\n",
       "    </tr>\n",
       "  </tbody>\n",
       "</table>\n",
       "</div>"
      ],
      "text/plain": [
       "        Sex  Age_Group  Occupation Zipcode     Profession\n",
       "User_ID                                                  \n",
       "1         F          1          10   48067   K-12 Student\n",
       "2         M         56          16   70072  Self-Employed\n",
       "3         M         25          15   55117      Scientist\n",
       "4         M         45           7    2460        Manager\n",
       "5         M         25          20   55455         Writer"
      ]
     },
     "execution_count": 54,
     "metadata": {},
     "output_type": "execute_result"
    }
   ],
   "source": [
    "user_info = users.set_index('User_ID')\n",
    "user_info.head()"
   ]
  },
  {
   "cell_type": "code",
   "execution_count": 55,
   "metadata": {
    "collapsed": false
   },
   "outputs": [
    {
     "name": "stdout",
     "output_type": "stream",
     "text": [
      "RMSE for collab_gender: 0.977377249197\n"
     ]
    }
   ],
   "source": [
    "def collab_gender(user_id, movie_id):\n",
    "    \"\"\" Collaborative filtering using an implicit sim(u,u') based on gender. \"\"\"\n",
    "    \n",
    "    user_condition = train.User_ID != user_id\n",
    "    movie_condition = train.Movie_ID == movie_id\n",
    "    ratings_by_others = train.loc[user_condition & movie_condition]\n",
    "    if ratings_by_others.empty: \n",
    "        return 3.0\n",
    "    \n",
    "    means_by_gender = ratings_by_others.pivot_table('Rating', index='Movie_ID', columns='Sex')\n",
    "    user_gender = user_info.ix[user_id, 'Sex']\n",
    "    if user_gender in means_by_gender.columns: \n",
    "        return means_by_gender.ix[movie_id, user_gender]\n",
    "    else:\n",
    "        return means_by_gender.ix[movie_id].mean()\n",
    "\n",
    "print ('RMSE for collab_gender: %s' % evaluate(collab_gender))"
   ]
  },
  {
   "cell_type": "code",
   "execution_count": null,
   "metadata": {
    "collapsed": true
   },
   "outputs": [],
   "source": []
  },
  {
   "cell_type": "code",
   "execution_count": 157,
   "metadata": {
    "collapsed": true
   },
   "outputs": [],
   "source": [
    "class CollabGenderReco:\n",
    "    \"\"\" Collaborative filtering using an implicit sim(u,u'). \"\"\"\n",
    "\n",
    "    def learn(self):\n",
    "        \"\"\" Prepare datastructures for estimation. \"\"\"\n",
    "        \n",
    "        self.means_by_gender = train.pivot_table('Rating', index='Movie_ID', columns='Sex')\n",
    "\n",
    "    def estimate(self, user_id, movie_id):\n",
    "        \"\"\" Mean ratings by other users of the same sex. \"\"\"\n",
    "        \n",
    "        if movie_id not in self.means_by_gender.index: \n",
    "            return 3.0\n",
    "        \n",
    "        user_gender = user_info.ix[user_id, 'Sex']\n",
    "        if ~np.isnan(self.means_by_gender.ix[movie_id, user_gender]):\n",
    "            return self.means_by_gender.ix[movie_id, user_gender]\n",
    "        else:\n",
    "            return self.means_by_gender.ix[movie_id].mean()"
   ]
  },
  {
   "cell_type": "code",
   "execution_count": 158,
   "metadata": {
    "collapsed": false
   },
   "outputs": [
    {
     "name": "stdout",
     "output_type": "stream",
     "text": [
      "RMSE for CollabGenderReco: 0.977377249197\n"
     ]
    }
   ],
   "source": [
    "reco = CollabGenderReco()\n",
    "reco.learn()\n",
    "print ('RMSE for CollabGenderReco: %s' % evaluate(reco.estimate))"
   ]
  },
  {
   "cell_type": "code",
   "execution_count": 141,
   "metadata": {
    "collapsed": false
   },
   "outputs": [
    {
     "data": {
      "text/html": [
       "<div>\n",
       "<table border=\"1\" class=\"dataframe\">\n",
       "  <thead>\n",
       "    <tr style=\"text-align: right;\">\n",
       "      <th></th>\n",
       "      <th>User_ID</th>\n",
       "      <th>Sex</th>\n",
       "      <th>Age_Group</th>\n",
       "      <th>Occupation</th>\n",
       "      <th>Zipcode</th>\n",
       "      <th>Profession</th>\n",
       "      <th>Movie_ID</th>\n",
       "      <th>Movie_Name</th>\n",
       "      <th>Year</th>\n",
       "      <th>Rating</th>\n",
       "    </tr>\n",
       "  </thead>\n",
       "  <tbody>\n",
       "    <tr>\n",
       "      <th>0</th>\n",
       "      <td>1</td>\n",
       "      <td>F</td>\n",
       "      <td>1</td>\n",
       "      <td>10</td>\n",
       "      <td>48067</td>\n",
       "      <td>K-12 Student</td>\n",
       "      <td>1</td>\n",
       "      <td>Toy Story</td>\n",
       "      <td>1995</td>\n",
       "      <td>5</td>\n",
       "    </tr>\n",
       "  </tbody>\n",
       "</table>\n",
       "</div>"
      ],
      "text/plain": [
       "   User_ID Sex  Age_Group  Occupation Zipcode    Profession  Movie_ID  \\\n",
       "0        1   F          1          10   48067  K-12 Student         1   \n",
       "\n",
       "   Movie_Name  Year  Rating  \n",
       "0  Toy Story   1995       5  "
      ]
     },
     "execution_count": 141,
     "metadata": {},
     "output_type": "execute_result"
    }
   ],
   "source": [
    "ratings= Users\n"
   ]
  },
  {
   "cell_type": "code",
   "execution_count": 160,
   "metadata": {
    "collapsed": false
   },
   "outputs": [
    {
     "data": {
      "text/html": [
       "<div>\n",
       "<table border=\"1\" class=\"dataframe\">\n",
       "  <thead>\n",
       "    <tr style=\"text-align: right;\">\n",
       "      <th></th>\n",
       "      <th>User_ID</th>\n",
       "      <th>Movie_ID</th>\n",
       "      <th>Rating</th>\n",
       "    </tr>\n",
       "  </thead>\n",
       "  <tbody>\n",
       "    <tr>\n",
       "      <th>0</th>\n",
       "      <td>1</td>\n",
       "      <td>1</td>\n",
       "      <td>5</td>\n",
       "    </tr>\n",
       "    <tr>\n",
       "      <th>1</th>\n",
       "      <td>1</td>\n",
       "      <td>1028</td>\n",
       "      <td>5</td>\n",
       "    </tr>\n",
       "    <tr>\n",
       "      <th>2</th>\n",
       "      <td>1</td>\n",
       "      <td>783</td>\n",
       "      <td>4</td>\n",
       "    </tr>\n",
       "    <tr>\n",
       "      <th>3</th>\n",
       "      <td>1</td>\n",
       "      <td>783</td>\n",
       "      <td>4</td>\n",
       "    </tr>\n",
       "    <tr>\n",
       "      <th>4</th>\n",
       "      <td>1</td>\n",
       "      <td>783</td>\n",
       "      <td>4</td>\n",
       "    </tr>\n",
       "  </tbody>\n",
       "</table>\n",
       "</div>"
      ],
      "text/plain": [
       "   User_ID  Movie_ID  Rating\n",
       "0        1         1       5\n",
       "1        1      1028       5\n",
       "2        1       783       4\n",
       "3        1       783       4\n",
       "4        1       783       4"
      ]
     },
     "execution_count": 160,
     "metadata": {},
     "output_type": "execute_result"
    }
   ],
   "source": [
    "ratings.head()"
   ]
  },
  {
   "cell_type": "code",
   "execution_count": 156,
   "metadata": {
    "collapsed": false
   },
   "outputs": [
    {
     "name": "stdout",
     "output_type": "stream",
     "text": [
      "6040 users\n",
      "3514 movies\n"
     ]
    }
   ],
   "source": [
    "n_users = ratings.User_ID.unique().shape[0]\n",
    "n_movies = ratings.Movie_ID.unique().shape[0]\n",
    "print (str(n_users) + ' users')\n",
    "print (str(n_movies) + ' movies')"
   ]
  },
  {
   "cell_type": "code",
   "execution_count": 2,
   "metadata": {
    "collapsed": false
   },
   "outputs": [
    {
     "ename": "NameError",
     "evalue": "name 'np' is not defined",
     "output_type": "error",
     "traceback": [
      "\u001b[0;31m---------------------------------------------------------------------------\u001b[0m",
      "\u001b[0;31mNameError\u001b[0m                                 Traceback (most recent call last)",
      "\u001b[0;32m<ipython-input-2-b4c17d2c9c8d>\u001b[0m in \u001b[0;36m<module>\u001b[0;34m()\u001b[0m\n\u001b[0;32m----> 1\u001b[0;31m \u001b[0mratings_users\u001b[0m \u001b[1;33m=\u001b[0m \u001b[0mnp\u001b[0m\u001b[1;33m.\u001b[0m\u001b[0mzeros\u001b[0m\u001b[1;33m(\u001b[0m\u001b[1;33m(\u001b[0m\u001b[0mn_users\u001b[0m\u001b[1;33m,\u001b[0m\u001b[0mn_movies\u001b[0m\u001b[1;33m)\u001b[0m\u001b[1;33m)\u001b[0m\u001b[1;33m\u001b[0m\u001b[0m\n\u001b[0m\u001b[1;32m      2\u001b[0m \u001b[1;32mfor\u001b[0m \u001b[0mrow\u001b[0m \u001b[1;32min\u001b[0m \u001b[0mratings\u001b[0m\u001b[1;33m.\u001b[0m\u001b[0mitertuples\u001b[0m\u001b[1;33m(\u001b[0m\u001b[1;33m)\u001b[0m\u001b[1;33m:\u001b[0m\u001b[1;33m\u001b[0m\u001b[0m\n\u001b[1;32m      3\u001b[0m     \u001b[0mratings_users\u001b[0m\u001b[1;33m[\u001b[0m\u001b[0mrow\u001b[0m\u001b[1;33m[\u001b[0m\u001b[1;36m1\u001b[0m\u001b[1;33m]\u001b[0m\u001b[1;33m-\u001b[0m\u001b[1;36m1\u001b[0m\u001b[1;33m,\u001b[0m \u001b[0mrow\u001b[0m\u001b[1;33m[\u001b[0m\u001b[1;36m2\u001b[0m\u001b[1;33m]\u001b[0m\u001b[1;33m-\u001b[0m\u001b[1;36m1\u001b[0m\u001b[1;33m]\u001b[0m \u001b[1;33m=\u001b[0m \u001b[0mrow\u001b[0m\u001b[1;33m[\u001b[0m\u001b[1;36m3\u001b[0m\u001b[1;33m]\u001b[0m\u001b[1;33m\u001b[0m\u001b[0m\n\u001b[1;32m      4\u001b[0m \u001b[0mratings_users\u001b[0m\u001b[1;33m\u001b[0m\u001b[0m\n",
      "\u001b[0;31mNameError\u001b[0m: name 'np' is not defined"
     ]
    }
   ],
   "source": [
    "ratings_users = np.zeros((n_users,n_movies))\n",
    "for row in ratings.itertuples():\n",
    "    ratings_users[row[1]-1, row[2]-1] = row[3]\n",
    "ratings_users"
   ]
  },
  {
   "cell_type": "code",
   "execution_count": null,
   "metadata": {
    "collapsed": false
   },
   "outputs": [],
   "source": [
    "sparsity = float(len(ratings_users.nonzero()[0]))\n",
    "sparsity /= (ratings_users.shape[0] * ratings_users.shape[1])\n",
    "sparsity *= 100\n",
    "print ('Sparsity: {:4.2f}%'.format(sparsity))"
   ]
  },
  {
   "cell_type": "code",
   "execution_count": null,
   "metadata": {
    "collapsed": true
   },
   "outputs": [],
   "source": [
    "ratings_train, ratings_test = train_test_split(ratings_users, test_size = 0.2)"
   ]
  },
  {
   "cell_type": "code",
   "execution_count": null,
   "metadata": {
    "collapsed": false
   },
   "outputs": [],
   "source": [
    "ratings_train"
   ]
  },
  {
   "cell_type": "code",
   "execution_count": null,
   "metadata": {
    "collapsed": false
   },
   "outputs": [],
   "source": [
    "ratings_test"
   ]
  },
  {
   "cell_type": "code",
   "execution_count": null,
   "metadata": {
    "collapsed": true
   },
   "outputs": [],
   "source": [
    "def fast_similarity(ratings, kind='user', epsilon=1e-9):\n",
    "    # epsilon -> small number for handling divided-by-zero errors\n",
    "    if kind == 'user':\n",
    "        sim = ratings_users.dot(ratings_users.T) + epsilon\n",
    "    elif kind == 'movie':\n",
    "        sim = ratings_users.T.dot(ratings_users) + epsilon\n",
    "    norms = np.array([np.sqrt(np.diagonal(sim))])\n",
    "    return (sim / norms / norms.T)"
   ]
  },
  {
   "cell_type": "code",
   "execution_count": null,
   "metadata": {
    "collapsed": false
   },
   "outputs": [],
   "source": [
    "%timeit fast_similarity(ratings_train, kind='user')"
   ]
  },
  {
   "cell_type": "code",
   "execution_count": null,
   "metadata": {
    "collapsed": false
   },
   "outputs": [],
   "source": [
    "user_similarity = fast_similarity(ratings_train, kind='user')\n",
    "movie_similarity = fast_similarity(ratings_train, kind='movie')\n",
    "print (movie_similarity[:4, :4])\n"
   ]
  },
  {
   "cell_type": "code",
   "execution_count": null,
   "metadata": {
    "collapsed": true
   },
   "outputs": [],
   "source": [
    "def predict_slow_simple(ratings, similarity, kind='user'):\n",
    "    pred = np.zeros(ratings.shape)\n",
    "    if kind == 'user':\n",
    "        for i in range(ratings.shape[0]):\n",
    "            for j in range(ratings.shape[1]):\n",
    "                pred[i, j] = similarity[i, :].dot(ratings[:, j])\\\n",
    "                             /np.sum(np.abs(similarity[i, :]))\n",
    "        return pred\n",
    "    elif kind == 'movie':\n",
    "        for i in range(ratings.shape[0]):\n",
    "            for j in range(ratings.shape[1]):\n",
    "                pred[i, j] = similarity[j, :].dot(ratings[i, :].T)\\\n",
    "                             /np.sum(np.abs(similarity[j, :]))\n",
    "\n",
    "        return pred"
   ]
  },
  {
   "cell_type": "code",
   "execution_count": null,
   "metadata": {
    "collapsed": true
   },
   "outputs": [],
   "source": [
    "def predict_fast_simple(ratings, similarity, kind='user'):\n",
    "    if kind == 'user':\n",
    "        return similarity.dot(ratings) / np.array([np.abs(similarity).sum(axis=1)]).T\n",
    "    elif kind == 'movie':\n",
    "        return ratings.dot(similarity) / np.array([np.abs(similarity).sum(axis=1)])"
   ]
  },
  {
   "cell_type": "code",
   "execution_count": null,
   "metadata": {
    "collapsed": false
   },
   "outputs": [],
   "source": [
    "predict_fast_simple(ratings_train, movie_similarity, kind='movie')"
   ]
  },
  {
   "cell_type": "code",
   "execution_count": null,
   "metadata": {
    "collapsed": true
   },
   "outputs": [],
   "source": [
    "def get_mse(pred, actual):\n",
    "    # Ignore nonzero terms.\n",
    "    pred = pred[actual.nonzero()].flatten()\n",
    "    actual = actual[actual.nonzero()].flatten()\n",
    "    return mean_squared_error(pred, actual)"
   ]
  },
  {
   "cell_type": "code",
   "execution_count": null,
   "metadata": {
    "collapsed": false
   },
   "outputs": [],
   "source": [
    "movie_prediction = predict_fast_simple(ratings_train, movie_similarity, kind='movie')\n",
    "#user_prediction = predict_fast_simple(ratings_train, user_similarity, kind='user')\n",
    "\n",
    "#print ('User-based CF MSE: ' + str(get_mse(user_prediction, test)))\n",
    "print ('Movie-based CF MSE: ' + str(get_mse(movie_prediction, ratings_test)))"
   ]
  },
  {
   "cell_type": "code",
   "execution_count": null,
   "metadata": {
    "collapsed": true
   },
   "outputs": [],
   "source": [
    "def predict_topk(ratings, similarity, kind='user', k=40):\n",
    "    pred = np.zeros(ratings.shape)\n",
    "    if kind == 'user':\n",
    "        for i in range(ratings.shape[0]):\n",
    "            top_k_users = [np.argsort(similarity[:,i])[:-k-1:-1]]\n",
    "            for j in range(ratings.shape[1]):\n",
    "                pred[i, j] = similarity[i, :][top_k_users].dot(ratings[:, j][top_k_users]) \n",
    "                pred[i, j] /= np.sum(np.abs(similarity[i, :][top_k_users]))\n",
    "    if kind == 'movie':\n",
    "        for j in range(ratings.shape[1]):\n",
    "            top_k_items = [np.argsort(similarity[:,j])[:-k-1:-1]]\n",
    "            for i in range(ratings.shape[0]):\n",
    "                pred[i, j] = similarity[j, :][top_k_items].dot(ratings[i, :][top_k_items].T) \n",
    "                pred[i, j] /= np.sum(np.abs(similarity[j, :][top_k_items]))        \n",
    "    \n",
    "    return pred"
   ]
  },
  {
   "cell_type": "code",
   "execution_count": null,
   "metadata": {
    "collapsed": false
   },
   "outputs": [],
   "source": [
    "pred = predict_topk(ratings_train, movie_similarity, kind='movie', k=500)\n",
    "print ('Top-k Item-based CF MSE: ' + str(get_mse(pred, ratings_test)))"
   ]
  },
  {
   "cell_type": "code",
   "execution_count": null,
   "metadata": {
    "collapsed": true
   },
   "outputs": [],
   "source": [
    "\n",
    "# Load in movie data\n",
    "idx_to_movie = {}\n",
    "with open('u.item', 'r') as f:\n",
    "    for line in f.readlines():\n",
    "        info = line.split('|')\n",
    "        idx_to_movie[int(info[0])-1] = info[4]\n",
    "\n",
    "def top_k_movies(similarity, mapper, movie_idx, k=10):\n",
    "    return [mapper[x] for x in np.argsort(similarity[movie_idx,:])[:-k-1:-1]]"
   ]
  },
  {
   "cell_type": "code",
   "execution_count": null,
   "metadata": {
    "collapsed": true
   },
   "outputs": [],
   "source": [
    "from sklearn.metrics import pairwise_distances\n",
    "# Convert from distance to similarity\n",
    "item_correlation = 1 - pairwise_distances(ratings_train.T, metric='correlation')\n",
    "item_correlation[np.isnan(item_correlation)] = 0."
   ]
  },
  {
   "cell_type": "code",
   "execution_count": null,
   "metadata": {
    "collapsed": false
   },
   "outputs": [],
   "source": [
    "idx = 0 # Toy Story\n",
    "movies = top_k_movies(item_correlation, idx_to_movie, idx)\n",
    "movies"
   ]
  },
  {
   "cell_type": "code",
   "execution_count": null,
   "metadata": {
    "collapsed": false
   },
   "outputs": [],
   "source": [
    "\n",
    "k_array = [5, 15, 30, 50, 100, 200]\n",
    "\n",
    "item_test_mse = []\n",
    "item_train_mse = []\n",
    "\n",
    "def get_mse(pred, actual):\n",
    "    pred = pred[actual.nonzero()].flatten()\n",
    "    actual = actual[actual.nonzero()].flatten()\n",
    "    return mean_squared_error(pred, actual)\n",
    "\n",
    "for k in k_array:\n",
    "    item_pred = predict_topk(ratings_train, movie_similarity, kind='movie', k=k)\n",
    "    item_train_mse += [get_mse(item_pred, ratings_train)]\n",
    "    item_test_mse += [get_mse(item_pred, ratings_test)]  "
   ]
  },
  {
   "cell_type": "code",
   "execution_count": null,
   "metadata": {
    "collapsed": false
   },
   "outputs": [],
   "source": [
    "sns.set()\n",
    "pal = sns.color_palette(\"Set2\", 2)\n",
    "plt.figure(figsize=(8, 8))\n",
    "plt.plot(k_array, item_train_mse, c=pal[1], label='Item-based train', alpha=0.5, linewidth=5)\n",
    "plt.plot(k_array, item_test_mse, c=pal[1], label='Item-based test', linewidth=5)\n",
    "plt.legend(loc='best', fontsize=20)\n",
    "plt.xticks(fontsize=16);\n",
    "plt.yticks(fontsize=16);\n",
    "plt.xlabel('k', fontsize=30);\n",
    "plt.ylabel('MSE', fontsize=30);"
   ]
  },
  {
   "cell_type": "code",
   "execution_count": null,
   "metadata": {
    "collapsed": true
   },
   "outputs": [],
   "source": []
  },
  {
   "cell_type": "code",
   "execution_count": null,
   "metadata": {
    "collapsed": true
   },
   "outputs": [],
   "source": []
  },
  {
   "cell_type": "code",
   "execution_count": null,
   "metadata": {
    "collapsed": true
   },
   "outputs": [],
   "source": []
  },
  {
   "cell_type": "code",
   "execution_count": null,
   "metadata": {
    "collapsed": true
   },
   "outputs": [],
   "source": []
  },
  {
   "cell_type": "code",
   "execution_count": null,
   "metadata": {
    "collapsed": true
   },
   "outputs": [],
   "source": []
  },
  {
   "cell_type": "code",
   "execution_count": null,
   "metadata": {
    "collapsed": true
   },
   "outputs": [],
   "source": []
  },
  {
   "cell_type": "code",
   "execution_count": null,
   "metadata": {
    "collapsed": true
   },
   "outputs": [],
   "source": []
  },
  {
   "cell_type": "code",
   "execution_count": null,
   "metadata": {
    "collapsed": true
   },
   "outputs": [],
   "source": []
  },
  {
   "cell_type": "code",
   "execution_count": null,
   "metadata": {
    "collapsed": true
   },
   "outputs": [],
   "source": []
  },
  {
   "cell_type": "code",
   "execution_count": null,
   "metadata": {
    "collapsed": true
   },
   "outputs": [],
   "source": []
  },
  {
   "cell_type": "code",
   "execution_count": null,
   "metadata": {
    "collapsed": true
   },
   "outputs": [],
   "source": []
  }
 ],
 "metadata": {
  "anaconda-cloud": {},
  "kernelspec": {
   "display_name": "Python [default]",
   "language": "python",
   "name": "python3"
  },
  "language_info": {
   "codemirror_mode": {
    "name": "ipython",
    "version": 3
   },
   "file_extension": ".py",
   "mimetype": "text/x-python",
   "name": "python",
   "nbconvert_exporter": "python",
   "pygments_lexer": "ipython3",
   "version": "3.5.2"
  }
 },
 "nbformat": 4,
 "nbformat_minor": 1
}
