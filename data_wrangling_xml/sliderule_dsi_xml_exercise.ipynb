{
 "cells": [
  {
   "cell_type": "markdown",
   "metadata": {},
   "source": [
    "# XML example and exercise\n",
    "****\n",
    "+ study examples of accessing nodes in XML tree structure  \n",
    "+ work on exercise to be completed and submitted\n",
    "****\n",
    "+ reference: https://docs.python.org/2.7/library/xml.etree.elementtree.html\n",
    "+ data source: http://www.dbis.informatik.uni-goettingen.de/Mondial\n",
    "****"
   ]
  },
  {
   "cell_type": "code",
   "execution_count": 1,
   "metadata": {
    "collapsed": true
   },
   "outputs": [],
   "source": [
    "from xml.etree import ElementTree as ET\n",
    "import pandas as pd"
   ]
  },
  {
   "cell_type": "markdown",
   "metadata": {},
   "source": [
    "## XML example\n",
    "\n",
    "+ for details about tree traversal and iterators, see https://docs.python.org/2.7/library/xml.etree.elementtree.html"
   ]
  },
  {
   "cell_type": "code",
   "execution_count": 2,
   "metadata": {
    "collapsed": true
   },
   "outputs": [],
   "source": [
    "document_tree = ET.parse( './data/mondial_database_less.xml' )"
   ]
  },
  {
   "cell_type": "code",
   "execution_count": 3,
   "metadata": {
    "collapsed": false
   },
   "outputs": [
    {
     "name": "stdout",
     "output_type": "stream",
     "text": [
      "Albania\n",
      "Greece\n",
      "Macedonia\n",
      "Serbia\n",
      "Montenegro\n",
      "Kosovo\n",
      "Andorra\n"
     ]
    }
   ],
   "source": [
    "# print names of all countries\n",
    "for child in document_tree.getroot():\n",
    "    print (child.find('name').text)"
   ]
  },
  {
   "cell_type": "code",
   "execution_count": 4,
   "metadata": {
    "collapsed": false,
    "scrolled": true
   },
   "outputs": [
    {
     "name": "stdout",
     "output_type": "stream",
     "text": [
      "* Albania:\n",
      "Tirana, Shkodër, Durrës, Vlorë, Elbasan, Korçë\n",
      "* Greece:\n",
      "Komotini, Kavala, Athina, Peiraias, Peristeri, Acharnes, Patra, Kozani, Kerkyra, Ioannina, Thessaloniki, Iraklio, Chania, Ermoupoli, Rhodes, Tripoli, Lamia, Chalkida, Larissa, Volos, Mytilini, Karyes\n",
      "* Macedonia:\n",
      "Skopje, Kumanovo\n",
      "* Serbia:\n",
      "Beograd, Novi Sad, Niš\n",
      "* Montenegro:\n",
      "Podgorica\n",
      "* Kosovo:\n",
      "Prishtine\n",
      "* Andorra:\n",
      "Andorra la Vella\n"
     ]
    }
   ],
   "source": [
    "# print names of all countries and their cities\n",
    "for element in document_tree.iterfind('country'):\n",
    "    print ('* ' + element.find('name').text + ':'),\n",
    "    capitals_string = ''\n",
    "    for subelement in element.getiterator('city'):\n",
    "        capitals_string += subelement.find('name').text + ', '\n",
    "    print (capitals_string[:-2])"
   ]
  },
  {
   "cell_type": "markdown",
   "metadata": {},
   "source": [
    "****\n",
    "## XML exercise\n",
    "\n",
    "Using data in 'data/mondial_database.xml', the examples above, and refering to https://docs.python.org/2.7/library/xml.etree.elementtree.html, find\n",
    "\n",
    "1. 10 countries with the lowest infant mortality rates\n",
    "2. 10 cities with the largest population\n",
    "3. 10 ethnic groups with the largest overall populations (sum of best/latest estimates over all countries)\n",
    "4. name and country of a) longest river, b) largest lake and c) airport at highest elevation"
   ]
  },
  {
   "cell_type": "code",
   "execution_count": 6,
   "metadata": {
    "collapsed": false
   },
   "outputs": [],
   "source": [
    "document = ET.parse( './data/mondial_database.xml' )"
   ]
  },
  {
   "cell_type": "code",
   "execution_count": 9,
   "metadata": {
    "collapsed": false
   },
   "outputs": [
    {
     "data": {
      "text/html": [
       "<div>\n",
       "<table border=\"1\" class=\"dataframe\">\n",
       "  <thead>\n",
       "    <tr style=\"text-align: right;\">\n",
       "      <th></th>\n",
       "      <th>Countries</th>\n",
       "      <th>Infant mortality</th>\n",
       "    </tr>\n",
       "  </thead>\n",
       "  <tbody>\n",
       "    <tr>\n",
       "      <th>38</th>\n",
       "      <td>Monaco</td>\n",
       "      <td>1.81</td>\n",
       "    </tr>\n",
       "    <tr>\n",
       "      <th>98</th>\n",
       "      <td>Japan</td>\n",
       "      <td>2.13</td>\n",
       "    </tr>\n",
       "    <tr>\n",
       "      <th>117</th>\n",
       "      <td>Bermuda</td>\n",
       "      <td>2.48</td>\n",
       "    </tr>\n",
       "    <tr>\n",
       "      <th>36</th>\n",
       "      <td>Norway</td>\n",
       "      <td>2.48</td>\n",
       "    </tr>\n",
       "    <tr>\n",
       "      <th>106</th>\n",
       "      <td>Singapore</td>\n",
       "      <td>2.53</td>\n",
       "    </tr>\n",
       "    <tr>\n",
       "      <th>37</th>\n",
       "      <td>Sweden</td>\n",
       "      <td>2.60</td>\n",
       "    </tr>\n",
       "    <tr>\n",
       "      <th>10</th>\n",
       "      <td>Czech Republic</td>\n",
       "      <td>2.63</td>\n",
       "    </tr>\n",
       "    <tr>\n",
       "      <th>78</th>\n",
       "      <td>Hong Kong</td>\n",
       "      <td>2.73</td>\n",
       "    </tr>\n",
       "    <tr>\n",
       "      <th>79</th>\n",
       "      <td>Macao</td>\n",
       "      <td>3.13</td>\n",
       "    </tr>\n",
       "    <tr>\n",
       "      <th>44</th>\n",
       "      <td>Iceland</td>\n",
       "      <td>3.15</td>\n",
       "    </tr>\n",
       "  </tbody>\n",
       "</table>\n",
       "</div>"
      ],
      "text/plain": [
       "          Countries  Infant mortality\n",
       "38           Monaco              1.81\n",
       "98            Japan              2.13\n",
       "117         Bermuda              2.48\n",
       "36           Norway              2.48\n",
       "106       Singapore              2.53\n",
       "37           Sweden              2.60\n",
       "10   Czech Republic              2.63\n",
       "78        Hong Kong              2.73\n",
       "79            Macao              3.13\n",
       "44          Iceland              3.15"
      ]
     },
     "execution_count": 9,
     "metadata": {},
     "output_type": "execute_result"
    }
   ],
   "source": [
    "#Exercise 1: 10 countries with the lowest infant mortality rates\n",
    "\n",
    "countries=[]\n",
    "mortality=[]\n",
    "dfs= pd.DataFrame()\n",
    "for element in document.iterfind('country'):\n",
    "        country=element.find('name').text\n",
    "        countries.append(country)\n",
    "        try:\n",
    "            infant_mortality=element.find('infant_mortality').text\n",
    "            mortality.append(float(infant_mortality))\n",
    "            \n",
    "        except:\n",
    "            infant_mortality=\"NAN\"\n",
    "            mortality.append(float(infant_mortality))\n",
    "            continue\n",
    "df=pd.DataFrame({\"Countries\":countries, \"Infant mortality\":mortality})\n",
    "df.sort_values(by=[\"Infant mortality\"],ascending=True).head(10)\n",
    "    "
   ]
  },
  {
   "cell_type": "code",
   "execution_count": 45,
   "metadata": {
    "collapsed": false
   },
   "outputs": [
    {
     "data": {
      "text/html": [
       "<div>\n",
       "<table border=\"1\" class=\"dataframe\">\n",
       "  <thead>\n",
       "    <tr style=\"text-align: right;\">\n",
       "      <th></th>\n",
       "      <th>Population</th>\n",
       "      <th>Year</th>\n",
       "    </tr>\n",
       "    <tr>\n",
       "      <th>City</th>\n",
       "      <th></th>\n",
       "      <th></th>\n",
       "    </tr>\n",
       "  </thead>\n",
       "  <tbody>\n",
       "    <tr>\n",
       "      <th>Shanghai</th>\n",
       "      <td>22315474</td>\n",
       "      <td>2010</td>\n",
       "    </tr>\n",
       "    <tr>\n",
       "      <th>Istanbul</th>\n",
       "      <td>13710512</td>\n",
       "      <td>2012</td>\n",
       "    </tr>\n",
       "    <tr>\n",
       "      <th>Mumbai</th>\n",
       "      <td>12442373</td>\n",
       "      <td>2011</td>\n",
       "    </tr>\n",
       "    <tr>\n",
       "      <th>Moskva</th>\n",
       "      <td>11979529</td>\n",
       "      <td>2013</td>\n",
       "    </tr>\n",
       "    <tr>\n",
       "      <th>Beijing</th>\n",
       "      <td>11716620</td>\n",
       "      <td>2010</td>\n",
       "    </tr>\n",
       "    <tr>\n",
       "      <th>São Paulo</th>\n",
       "      <td>11152344</td>\n",
       "      <td>2010</td>\n",
       "    </tr>\n",
       "    <tr>\n",
       "      <th>Tianjin</th>\n",
       "      <td>11090314</td>\n",
       "      <td>2010</td>\n",
       "    </tr>\n",
       "    <tr>\n",
       "      <th>Guangzhou</th>\n",
       "      <td>11071424</td>\n",
       "      <td>2010</td>\n",
       "    </tr>\n",
       "    <tr>\n",
       "      <th>Delhi</th>\n",
       "      <td>11034555</td>\n",
       "      <td>2011</td>\n",
       "    </tr>\n",
       "    <tr>\n",
       "      <th>Shenzhen</th>\n",
       "      <td>10358381</td>\n",
       "      <td>2010</td>\n",
       "    </tr>\n",
       "  </tbody>\n",
       "</table>\n",
       "</div>"
      ],
      "text/plain": [
       "           Population  Year\n",
       "City                       \n",
       "Shanghai     22315474  2010\n",
       "Istanbul     13710512  2012\n",
       "Mumbai       12442373  2011\n",
       "Moskva       11979529  2013\n",
       "Beijing      11716620  2010\n",
       "São Paulo    11152344  2010\n",
       "Tianjin      11090314  2010\n",
       "Guangzhou    11071424  2010\n",
       "Delhi        11034555  2011\n",
       "Shenzhen     10358381  2010"
      ]
     },
     "execution_count": 45,
     "metadata": {},
     "output_type": "execute_result"
    }
   ],
   "source": [
    "# Exercise2: 10 cities with the largest population\n",
    "\n",
    "tree = ET.parse('./data/mondial_database.xml')\n",
    "root = tree.getroot()\n",
    "\n",
    "city_list=[]\n",
    "year_list=[]\n",
    "popu_list=[]\n",
    "\n",
    "for element in root.iter('country'):\n",
    "    for city in element.iter('city'):\n",
    "        cities = city.find('name').text\n",
    "        for popu in city.iter():\n",
    "            if popu.tag == 'population':\n",
    "                city_list.append(cities)\n",
    "                year_list.append(int(popu.attrib.get('year')))\n",
    "                popu_list.append(int(popu.text))\n",
    "            \n",
    "df = pd.DataFrame({'City':city_list,'Year':year_list,'Population':popu_list})     \n",
    "NoDuplicates=df.sort_values(by=['Year','Population'],ascending=True).drop_duplicates(['City'],keep='last')\n",
    "NoDuplicates.sort_values(by=['Population'],ascending=False).head(10).set_index(['City'])\n"
   ]
  },
  {
   "cell_type": "code",
   "execution_count": null,
   "metadata": {
    "collapsed": true
   },
   "outputs": [],
   "source": [
    "# Exercise3: 10 ethnic groups with the largest overall populations (sum of best/latest estimates over all countries)\n",
    "\n",
    "\n",
    "\n",
    "\n",
    "\n",
    "\n"
   ]
  },
  {
   "cell_type": "code",
   "execution_count": null,
   "metadata": {
    "collapsed": true
   },
   "outputs": [],
   "source": []
  },
  {
   "cell_type": "code",
   "execution_count": null,
   "metadata": {
    "collapsed": true
   },
   "outputs": [],
   "source": []
  },
  {
   "cell_type": "code",
   "execution_count": null,
   "metadata": {
    "collapsed": true
   },
   "outputs": [],
   "source": []
  },
  {
   "cell_type": "code",
   "execution_count": null,
   "metadata": {
    "collapsed": true
   },
   "outputs": [],
   "source": []
  },
  {
   "cell_type": "code",
   "execution_count": null,
   "metadata": {
    "collapsed": true
   },
   "outputs": [],
   "source": []
  },
  {
   "cell_type": "code",
   "execution_count": 146,
   "metadata": {
    "collapsed": false,
    "scrolled": true
   },
   "outputs": [
    {
     "name": "stdout",
     "output_type": "stream",
     "text": [
      "{'Albania': '13.19'}\n",
      "{'Greece': '4.78'}\n",
      "{'Macedonia': '7.9'}\n",
      "{'Serbia': '6.16'}\n",
      "{'Andorra': '3.69'}\n",
      "{'France': '3.31'}\n",
      "{'Spain': '3.33'}\n",
      "{'Austria': '4.16'}\n",
      "{'Czech Republic': '2.63'}\n",
      "{'Germany': '3.46'}\n",
      "{'Hungary': '5.09'}\n",
      "{'Italy': '3.31'}\n",
      "{'Liechtenstein': '4.33'}\n",
      "{'Slovakia': '5.35'}\n",
      "{'Slovenia': '4.04'}\n",
      "{'Switzerland': '3.73'}\n",
      "{'Belarus': '3.64'}\n",
      "{'Latvia': '7.91'}\n",
      "{'Lithuania': '6'}\n",
      "{'Poland': '6.19'}\n",
      "{'Ukraine': '8.1'}\n",
      "{'Russia': '7.08'}\n",
      "{'Belgium': '4.18'}\n",
      "{'Luxembourg': '4.28'}\n",
      "{'Netherlands': '3.66'}\n",
      "{'Bosnia and Herzegovina': '5.84'}\n",
      "{'Croatia': '5.87'}\n",
      "{'Bulgaria': '15.08'}\n",
      "{'Romania': '10.16'}\n",
      "{'Turkey': '21.43'}\n",
      "{'Denmark': '4.1'}\n",
      "{'Estonia': '6.7'}\n",
      "{'Faroe Islands': '5.71'}\n",
      "{'Finland': '3.36'}\n",
      "{'Norway': '2.48'}\n",
      "{'Sweden': '2.6'}\n",
      "{'Monaco': '1.81'}\n",
      "{'Gibraltar': '6.29'}\n",
      "{'Guernsey': '3.47'}\n",
      "{'Iceland': '3.15'}\n",
      "{'Ireland': '3.74'}\n",
      "{'San Marino': '4.52'}\n",
      "{'Jersey': '3.86'}\n",
      "{'Malta': '3.59'}\n",
      "{'Isle of Man': '4.17'}\n",
      "{'Moldova': '12.93'}\n",
      "{'Portugal': '4.48'}\n",
      "{'United Kingdom': '4.44'}\n",
      "{'Afghanistan': '117.23'}\n",
      "{'China': '14.79'}\n",
      "{'Iran': '39'}\n",
      "{'Pakistan': '57.48'}\n",
      "{'Tajikistan': '35.03'}\n",
      "{'Turkmenistan': '38.13'}\n",
      "{'Uzbekistan': '19.84'}\n",
      "{'Armenia': '13.97'}\n",
      "{'Georgia': '16.68'}\n",
      "{'Azerbaijan': '26.67'}\n",
      "{'Bahrain': '9.68'}\n",
      "{'Bangladesh': '45.67'}\n",
      "{'Myanmar': '44.91'}\n",
      "{'India': '43.19'}\n",
      "{'Bhutan': '37.89'}\n",
      "{'Brunei': '10.48'}\n",
      "{'Malaysia': '13.69'}\n",
      "{'Laos': '54.53'}\n",
      "{'Thailand': '9.86'}\n",
      "{'Cambodia': '51.36'}\n",
      "{'Vietnam': '18.99'}\n",
      "{'Kazakhstan': '21.61'}\n",
      "{'North Korea': '24.5'}\n",
      "{'Kyrgyzstan': '28.71'}\n",
      "{'Hong Kong': '2.73'}\n",
      "{'Macao': '3.13'}\n",
      "{'Mongolia': '23.15'}\n",
      "{'Nepal': '40.43'}\n",
      "{'Cyprus': '8.54'}\n",
      "{'Gaza Strip': '30.6'}\n",
      "{'Israel': '3.98'}\n",
      "{'Egypt': '22.41'}\n",
      "{'Indonesia': '25.16'}\n",
      "{'Timor-Leste': '38.79'}\n",
      "{'Papua New Guinea': '39.67'}\n",
      "{'Iraq': '37.53'}\n",
      "{'Jordan': '15.73'}\n",
      "{'Kuwait': '7.51'}\n",
      "{'Saudi Arabia': '14.58'}\n",
      "{'Syria': '15.79'}\n",
      "{'Lebanon': '7.98'}\n",
      "{'West Bank': '28.6'}\n",
      "{'Japan': '2.13'}\n",
      "{'South Korea': '3.93'}\n",
      "{'Maldives': '24.59'}\n",
      "{'Oman': '14'}\n",
      "{'United Arab Emirates': '10.92'}\n",
      "{'Yemen': '50.41'}\n",
      "{'Philippines': '17.64'}\n",
      "{'Qatar': '6.42'}\n",
      "{'Singapore': '2.53'}\n",
      "{'Sri Lanka': '9.02'}\n",
      "{'Taiwan': '4.49'}\n",
      "{'Anguilla': '3.4'}\n",
      "{'Antigua and Barbuda': '13.29'}\n",
      "{'Aruba': '11.74'}\n",
      "{'Bahamas': '12.5'}\n",
      "{'Barbados': '10.93'}\n",
      "{'Belize': '20.31'}\n",
      "{'Guatemala': '23.51'}\n",
      "{'Mexico': '12.58'}\n",
      "{'Bermuda': '2.48'}\n",
      "{'British Virgin Islands': '13.45'}\n",
      "{'Canada': '4.71'}\n",
      "{'United States': '6.17'}\n",
      "{'Cayman Islands': '6.21'}\n",
      "{'Costa Rica': '8.7'}\n",
      "{'Nicaragua': '20.36'}\n",
      "{'Panama': '10.7'}\n",
      "{'Cuba': '4.7'}\n",
      "{'Dominica': '11.61'}\n",
      "{'Dominican Republic': '19.63'}\n",
      "{'Haiti': '49.43'}\n",
      "{'El Salvador': '18.44'}\n",
      "{'Honduras': '18.72'}\n",
      "{'Greenland': '9.42'}\n",
      "{'Grenada': '10.5'}\n",
      "{'Guadeloupe': '8.3'}\n",
      "{'Jamaica': '13.69'}\n",
      "{'Martinique': '7.1'}\n",
      "{'Montserrat': '13.66'}\n",
      "{'Sint Maarten': '9.05'}\n",
      "{'Colombia': '15.02'}\n",
      "{'Puerto Rico': '7.73'}\n",
      "{'Saint Kitts and Nevis': '8.98'}\n",
      "{'Saint Lucia': '11.75'}\n",
      "{'Saint Pierre and Miquelon': '6.95'}\n",
      "{'Saint Vincent and the Grenadines': '13.07'}\n",
      "{'Trinidad and Tobago': '24.82'}\n",
      "{'Turks and Caicos Islands': '10.97'}\n",
      "{'Virgin Islands': '6.79'}\n",
      "{'American Samoa': '8.92'}\n",
      "{'Australia': '4.43'}\n",
      "{'Cook Islands': '14.33'}\n",
      "{'Fiji': '10.2'}\n",
      "{'French Polynesia': '4.78'}\n",
      "{'Guam': '5.51'}\n",
      "{'Kiribati': '35.37'}\n",
      "{'Marshall Islands': '21.39'}\n",
      "{'Micronesia': '21.93'}\n",
      "{'Nauru': '8.21'}\n",
      "{'New Caledonia': '5.46'}\n",
      "{'New Zealand': '4.59'}\n",
      "{'Northern Mariana Islands': '5.5'}\n",
      "{'Palau': '11.46'}\n",
      "{'Solomon Islands': '16.17'}\n",
      "{'Tonga': '12.36'}\n",
      "{'Tuvalu': '31.69'}\n",
      "{'Vanuatu': '16.41'}\n",
      "{'Wallis and Futuna': '4.49'}\n",
      "{'Samoa': '20.5'}\n",
      "{'Argentina': '9.96'}\n",
      "{'Bolivia': '38.61'}\n",
      "{'Brazil': '19.21'}\n",
      "{'Chile': '7.02'}\n",
      "{'Paraguay': '20.75'}\n",
      "{'Uruguay': '8.97'}\n",
      "{'Peru': '20.21'}\n",
      "{'French Guiana': '14.6'}\n",
      "{'Guyana': '33.56'}\n",
      "{'Suriname': '27.07'}\n",
      "{'Venezuela': '19.33'}\n",
      "{'Ecuador': '17.93'}\n",
      "{'Algeria': '21.76'}\n",
      "{'Libya': '11.87'}\n",
      "{'Mali': '104.34'}\n",
      "{'Mauritania': '56.06'}\n",
      "{'Morocco': '24.52'}\n",
      "{'Niger': '86.27'}\n",
      "{'Tunisia': '23.19'}\n",
      "{'Western Sahara': '145.82'}\n",
      "{'Angola': '79.99'}\n",
      "{'Congo': '59.34'}\n",
      "{'Namibia': '45.64'}\n",
      "{'Zaire': '73.15'}\n",
      "{'Zambia': '66.62'}\n",
      "{'Benin': '57.09'}\n",
      "{'Burkina Faso': '76.8'}\n",
      "{'Nigeria': '74.09'}\n",
      "{'Togo': '46.73'}\n",
      "{'Botswana': '9.38'}\n",
      "{'South Africa': '41.61'}\n",
      "{'Zimbabwe': '26.55'}\n",
      "{'Cote dIvoire': '60.16'}\n",
      "{'Ghana': '38.52'}\n",
      "{'Burundi': '63.44'}\n",
      "{'Rwanda': '59.59'}\n",
      "{'Tanzania': '43.74'}\n",
      "{'Cameroon': '55.1'}\n",
      "{'Central African Republic': '92.86'}\n",
      "{'Chad': '90.3'}\n",
      "{'Equatorial Guinea': '71.12'}\n",
      "{'Gabon': '47.03'}\n",
      "{'Cape Verde': '24.28'}\n",
      "{'Sudan': '52.86'}\n",
      "{'South Sudan': '68.16'}\n",
      "{'Comoros': '65.31'}\n",
      "{'Guinea': '55.24'}\n",
      "{'Liberia': '69.19'}\n",
      "{'Djibouti': '50.2'}\n",
      "{'Eritrea': '38.44'}\n",
      "{'Ethiopia': '55.77'}\n",
      "{'Somalia': '100.14'}\n",
      "{'Kenya': '40.71'}\n",
      "{'Gambia': '65.74'}\n",
      "{'Senegal': '52.72'}\n",
      "{'Guinea-Bissau': '90.92'}\n",
      "{'Sierra Leone': '73.29'}\n",
      "{'Uganda': '60.82'}\n",
      "{'Lesotho': '50.48'}\n",
      "{'Madagascar': '44.88'}\n",
      "{'Malawi': '48.01'}\n",
      "{'Mozambique': '72.42'}\n",
      "{'Mauritius': '10.59'}\n",
      "{'Mayotte': '56.29'}\n",
      "{'Swaziland': '54.82'}\n",
      "{'Reunion': '7.5'}\n",
      "{'Saint Helena': '17.63'}\n",
      "{'Sao Tome and Principe': '49.16'}\n",
      "{'Seychelles': '10.77'}\n"
     ]
    }
   ],
   "source": [
    "document = ET.parse( './data/mondial_database.xml' )\n",
    "root = document.getroot()\n",
    "root.tag\n",
    "root.attrib\n",
    "pop\n",
    "\n",
    "for child in root.findall('./country'):\n",
    "  #  print(child)\n",
    "    name = child.find('name').text\n",
    "    if child.find('infant_mortality') is not None:\n",
    "        infant = child.find('infant_mortality').text\n",
    "        str1 = [name]\n",
    "        str2 = [infant]\n",
    "        str3 = {name:infant}\n",
    "        #str3 = str1 + str3\n",
    "        #str2 = [infant]\n",
    "        #str4 = str2 \n",
    "        #newstr = {'country':str1,'Infant':str2}\n",
    "        #  pop = pd.DataFrame(newstr)\n",
    "        print(str3)\n",
    "       \n",
    "       \n",
    "                  "
   ]
  },
  {
   "cell_type": "code",
   "execution_count": 31,
   "metadata": {
    "collapsed": true
   },
   "outputs": [],
   "source": [
    "document = ET.parse( './data/mondial_database.xml' )\n",
    "def remove_empty_elements(document):\n",
    "  for element in document.xpath('//*[not(node())]'):\n",
    "    element.getparent().remove(element)"
   ]
  },
  {
   "cell_type": "code",
   "execution_count": 62,
   "metadata": {
    "collapsed": false
   },
   "outputs": [
    {
     "ename": "NameError",
     "evalue": "name 'sort' is not defined",
     "output_type": "error",
     "traceback": [
      "\u001b[0;31m---------------------------------------------------------------------------\u001b[0m",
      "\u001b[0;31mNameError\u001b[0m                                 Traceback (most recent call last)",
      "\u001b[0;32m<ipython-input-62-6afc28cdf6f2>\u001b[0m in \u001b[0;36m<module>\u001b[0;34m()\u001b[0m\n\u001b[1;32m      3\u001b[0m     \u001b[0mf\u001b[0m \u001b[1;33m=\u001b[0m \u001b[0mchild\u001b[0m\u001b[1;33m.\u001b[0m\u001b[0mfindtext\u001b[0m\u001b[1;33m(\u001b[0m\u001b[1;34m'name'\u001b[0m\u001b[1;33m)\u001b[0m\u001b[1;33m\u001b[0m\u001b[0m\n\u001b[1;32m      4\u001b[0m     \u001b[1;32mif\u001b[0m \u001b[0me\u001b[0m \u001b[1;32mis\u001b[0m \u001b[1;32mnot\u001b[0m \u001b[1;32mNone\u001b[0m\u001b[1;33m:\u001b[0m\u001b[1;33m\u001b[0m\u001b[0m\n\u001b[0;32m----> 5\u001b[0;31m         \u001b[0mprint\u001b[0m\u001b[1;33m(\u001b[0m\u001b[0msort\u001b[0m\u001b[1;33m(\u001b[0m\u001b[0me\u001b[0m\u001b[1;33m)\u001b[0m\u001b[1;33m)\u001b[0m\u001b[1;33m\u001b[0m\u001b[0m\n\u001b[0m\u001b[1;32m      6\u001b[0m \u001b[1;33m\u001b[0m\u001b[0m\n",
      "\u001b[0;31mNameError\u001b[0m: name 'sort' is not defined"
     ]
    }
   ],
   "source": [
    "for child in document.getroot():\n",
    "    e = child.findtext('infant_mortality')\n",
    "    f = child.findtext('name')\n",
    "    if e is not None:\n",
    "        print(sort(e))\n",
    "      "
   ]
  },
  {
   "cell_type": "code",
   "execution_count": null,
   "metadata": {
    "collapsed": true
   },
   "outputs": [],
   "source": []
  },
  {
   "cell_type": "code",
   "execution_count": null,
   "metadata": {
    "collapsed": true
   },
   "outputs": [],
   "source": []
  },
  {
   "cell_type": "code",
   "execution_count": null,
   "metadata": {
    "collapsed": true
   },
   "outputs": [],
   "source": []
  },
  {
   "cell_type": "code",
   "execution_count": null,
   "metadata": {
    "collapsed": true
   },
   "outputs": [],
   "source": []
  },
  {
   "cell_type": "code",
   "execution_count": null,
   "metadata": {
    "collapsed": true
   },
   "outputs": [],
   "source": []
  },
  {
   "cell_type": "code",
   "execution_count": null,
   "metadata": {
    "collapsed": true
   },
   "outputs": [],
   "source": []
  },
  {
   "cell_type": "code",
   "execution_count": null,
   "metadata": {
    "collapsed": true
   },
   "outputs": [],
   "source": []
  },
  {
   "cell_type": "code",
   "execution_count": null,
   "metadata": {
    "collapsed": true
   },
   "outputs": [],
   "source": []
  },
  {
   "cell_type": "code",
   "execution_count": null,
   "metadata": {
    "collapsed": true
   },
   "outputs": [],
   "source": []
  },
  {
   "cell_type": "code",
   "execution_count": null,
   "metadata": {
    "collapsed": true
   },
   "outputs": [],
   "source": []
  },
  {
   "cell_type": "code",
   "execution_count": null,
   "metadata": {
    "collapsed": true
   },
   "outputs": [],
   "source": []
  },
  {
   "cell_type": "code",
   "execution_count": null,
   "metadata": {
    "collapsed": true
   },
   "outputs": [],
   "source": []
  }
 ],
 "metadata": {
  "anaconda-cloud": {},
  "kernelspec": {
   "display_name": "Python [conda root]",
   "language": "python",
   "name": "conda-root-py"
  },
  "language_info": {
   "codemirror_mode": {
    "name": "ipython",
    "version": 3
   },
   "file_extension": ".py",
   "mimetype": "text/x-python",
   "name": "python",
   "nbconvert_exporter": "python",
   "pygments_lexer": "ipython3",
   "version": "3.5.2"
  }
 },
 "nbformat": 4,
 "nbformat_minor": 0
}
