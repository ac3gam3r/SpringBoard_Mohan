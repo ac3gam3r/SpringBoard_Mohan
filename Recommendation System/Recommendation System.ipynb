{
 "cells": [
  {
   "cell_type": "code",
   "execution_count": 241,
   "metadata": {
    "collapsed": true
   },
   "outputs": [],
   "source": [
    "#importing the required libraries\n",
    "\n",
    "%matplotlib inline \n",
    "\n",
    "import numpy as np\n",
    "import pandas as pd\n",
    "import matplotlib.pyplot as plt\n",
    "import seaborn as sns\n",
    "\n",
    "from matplotlib import rcParams\n",
    "sns.set_style(\"whitegrid\")\n",
    "sns.set_context(\"poster\")"
   ]
  },
  {
   "cell_type": "code",
   "execution_count": 2,
   "metadata": {
    "collapsed": false
   },
   "outputs": [
    {
     "data": {
      "text/html": [
       "<style>body {\n",
       "    margin: 0;\n",
       "    font-family: Helvetica;\n",
       "}\n",
       "table.dataframe {\n",
       "    border-collapse: collapse;\n",
       "    border: none;\n",
       "}\n",
       "table.dataframe tr {\n",
       "    border: none;\n",
       "}\n",
       "table.dataframe td, table.dataframe th {\n",
       "    margin: 0;\n",
       "    border: 1px solid white;\n",
       "    padding-left: 0.25em;\n",
       "    padding-right: 0.25em;\n",
       "}\n",
       "table.dataframe th:not(:empty) {\n",
       "    background-color: #fec;\n",
       "    text-align: left;\n",
       "    font-weight: normal;\n",
       "}\n",
       "table.dataframe tr:nth-child(2) th:empty {\n",
       "    border-left: none;\n",
       "    border-right: 1px dashed #888;\n",
       "}\n",
       "table.dataframe td {\n",
       "    border: 2px solid #ccf;\n",
       "    background-color: #f4f4ff;\n",
       "}\n",
       "h3 {\n",
       "    color: white;\n",
       "    background-color: black;\n",
       "    padding: 0.5em;\n",
       "}\n",
       "</style>"
      ],
      "text/plain": [
       "<IPython.core.display.HTML object>"
      ]
     },
     "execution_count": 2,
     "metadata": {},
     "output_type": "execute_result"
    }
   ],
   "source": [
    "#customizing with some CSS\n",
    "\n",
    "from IPython.core.display import HTML\n",
    "css = open('style-table.css').read() + open('style-notebook.css').read()\n",
    "HTML('<style>{}</style>'.format(css))"
   ]
  },
  {
   "cell_type": "code",
   "execution_count": 3,
   "metadata": {
    "collapsed": false,
    "scrolled": true
   },
   "outputs": [],
   "source": [
    "#Reading/Cleaning the Movies Data.\n",
    "\n",
    "df = pd.read_excel('data/Movies.xlsx',index_col=None)\n",
    "df['Year'] = (df['Movie Name']).str.extract('(\\d\\d\\d\\d)',expand = True)\n",
    "df['Movie Name'] = (df['Movie Name']).str.replace('(\\(....\\))','')\n",
    "df1 = pd.DataFrame(df)\n",
    "df2 = pd.DataFrame(df1['Genre'].str.split('\\|').tolist(),columns=['a','b','c','d','e','f'])\n",
    "df2['Movie ID'] = df1['Movie ID']\n",
    "df3 = df.merge(df2)\n",
    "df3.drop(['Genre', 'd','e','f'], axis=1, inplace=True)\n",
    "df4 = pd.melt(df3, id_vars=[\"Movie ID\", \"Movie Name\",\"Year\"], \n",
    "                  var_name=\"Date\", value_name=\"Genre\")\n",
    "del df4['Date']\n",
    "movies=df4.sort_values(by=['Movie ID'])\n",
    "movies = movies.dropna()\n",
    "\n"
   ]
  },
  {
   "cell_type": "code",
   "execution_count": 4,
   "metadata": {
    "collapsed": false,
    "scrolled": true
   },
   "outputs": [],
   "source": [
    "#Reading/Cleaning the Ratings Data.\n",
    "\n",
    "ratings = pd.read_excel('data/Ratings.xlsx',index_col=None)\n",
    "del ratings['Timestamp'] #Removing Timestamp column\n"
   ]
  },
  {
   "cell_type": "code",
   "execution_count": 5,
   "metadata": {
    "collapsed": false,
    "scrolled": true
   },
   "outputs": [],
   "source": [
    "#Reading/Cleaning the Users Data.\n",
    "users = pd.read_excel('data/Users.xlsx',index_col=None)\n",
    "del users['Zipcode'] #Removing Zipcode column, since it is not required.\n",
    "for index,row in users.iterrows():\n",
    "    if(row.Occupation == 0):\n",
    "        users.loc[index,\"Profession\"]=\"Other\"\n",
    "    elif(row.Occupation == 1):\n",
    "        users.loc[index,\"Profession\"]=\"Academic\"\n",
    "    elif(row.Occupation == 2):\n",
    "        users.loc[index,\"Profession\"]=\"Artist\"\n",
    "    elif(row.Occupation == 3):\n",
    "        users.loc[index,\"Profession\"]=\"Clerk\"\n",
    "    elif(row.Occupation == 4):\n",
    "        users.loc[index,\"Profession\"]=\"College Student\"\n",
    "    elif(row.Occupation == 5):\n",
    "        users.loc[index,\"Profession\"]=\"Customer Service\"\n",
    "    elif(row.Occupation == 6):\n",
    "        users.loc[index,\"Profession\"]=\"Doctor\"\n",
    "    elif(row.Occupation == 7):\n",
    "        users.loc[index,\"Profession\"]=\"Manager\"\n",
    "    elif(row.Occupation == 8):\n",
    "        users.loc[index,\"Profession\"]=\"Farmer\"\n",
    "    elif(row.Occupation == 9):\n",
    "        users.loc[index,\"Profession\"]=\"HomeMaker\"\n",
    "    elif(row.Occupation == 10):\n",
    "        users.loc[index,\"Profession\"]=\"K-12 Student\"\n",
    "    elif(row.Occupation == 11):\n",
    "        users.loc[index,\"Profession\"]=\"Lawyer\"\n",
    "    elif(row.Occupation == 12):\n",
    "        users.loc[index,\"Profession\"]=\"Programmer\"\n",
    "    elif(row.Occupation == 13):\n",
    "        users.loc[index,\"Profession\"]=\"Retired\"\n",
    "    elif(row.Occupation == 14):\n",
    "        users.loc[index,\"Profession\"]=\"Sales\"\n",
    "    elif(row.Occupation == 15):\n",
    "        users.loc[index,\"Profession\"]=\"Scientist\"\n",
    "    elif(row.Occupation == 16):\n",
    "        users.loc[index,\"Profession\"]=\"Self-Employed\"\n",
    "    elif(row.Occupation == 17):\n",
    "        users.loc[index,\"Profession\"]=\"Engineer\"\n",
    "    elif(row.Occupation == 18):\n",
    "        users.loc[index,\"Profession\"]=\"Craftsman\"\n",
    "    elif(row.Occupation == 19):\n",
    "        users.loc[index,\"Profession\"]=\"Unemployed\"\n",
    "    elif(row.Occupation == 20):\n",
    "        users.loc[index,\"Profession\"]=\"Writer\""
   ]
  },
  {
   "cell_type": "code",
   "execution_count": 6,
   "metadata": {
    "collapsed": false
   },
   "outputs": [],
   "source": [
    "#Merging Ratings data and Users Data\n",
    "Users = users.merge(ratings)"
   ]
  },
  {
   "cell_type": "code",
   "execution_count": 198,
   "metadata": {
    "collapsed": false
   },
   "outputs": [],
   "source": [
    "#Merging Everything\n",
    "final = movies.merge(Users)\n"
   ]
  },
  {
   "cell_type": "code",
   "execution_count": 199,
   "metadata": {
    "collapsed": false
   },
   "outputs": [],
   "source": [
    "#Final Dataset\n",
    "final = final.sort_values(by=['User ID'])"
   ]
  },
  {
   "cell_type": "code",
   "execution_count": 200,
   "metadata": {
    "collapsed": true
   },
   "outputs": [],
   "source": [
    "#Replacing the space in the column names\n",
    "final.columns = [x.strip().replace(' ', '_') for x in final.columns]"
   ]
  },
  {
   "cell_type": "code",
   "execution_count": 201,
   "metadata": {
    "collapsed": false,
    "scrolled": false
   },
   "outputs": [
    {
     "data": {
      "text/html": [
       "<div>\n",
       "<table border=\"1\" class=\"dataframe\">\n",
       "  <thead>\n",
       "    <tr style=\"text-align: right;\">\n",
       "      <th></th>\n",
       "      <th>Movie_ID</th>\n",
       "      <th>Movie_Name</th>\n",
       "      <th>Year</th>\n",
       "      <th>Genre</th>\n",
       "      <th>User_ID</th>\n",
       "      <th>Sex</th>\n",
       "      <th>Age_Group</th>\n",
       "      <th>Occupation</th>\n",
       "      <th>Profession</th>\n",
       "      <th>Rating</th>\n",
       "    </tr>\n",
       "  </thead>\n",
       "  <tbody>\n",
       "    <tr>\n",
       "      <th>0</th>\n",
       "      <td>1</td>\n",
       "      <td>Toy Story</td>\n",
       "      <td>1995</td>\n",
       "      <td>Animation</td>\n",
       "      <td>1</td>\n",
       "      <td>F</td>\n",
       "      <td>1</td>\n",
       "      <td>10</td>\n",
       "      <td>K-12 Student</td>\n",
       "      <td>5</td>\n",
       "    </tr>\n",
       "    <tr>\n",
       "      <th>481490</th>\n",
       "      <td>1028</td>\n",
       "      <td>Mary Poppins</td>\n",
       "      <td>1964</td>\n",
       "      <td>Children's</td>\n",
       "      <td>1</td>\n",
       "      <td>F</td>\n",
       "      <td>1</td>\n",
       "      <td>10</td>\n",
       "      <td>K-12 Student</td>\n",
       "      <td>5</td>\n",
       "    </tr>\n",
       "    <tr>\n",
       "      <th>380413</th>\n",
       "      <td>783</td>\n",
       "      <td>Hunchback of Notre Dame, The</td>\n",
       "      <td>1996</td>\n",
       "      <td>Children's</td>\n",
       "      <td>1</td>\n",
       "      <td>F</td>\n",
       "      <td>1</td>\n",
       "      <td>10</td>\n",
       "      <td>K-12 Student</td>\n",
       "      <td>4</td>\n",
       "    </tr>\n",
       "    <tr>\n",
       "      <th>380803</th>\n",
       "      <td>783</td>\n",
       "      <td>Hunchback of Notre Dame, The</td>\n",
       "      <td>1996</td>\n",
       "      <td>Musical</td>\n",
       "      <td>1</td>\n",
       "      <td>F</td>\n",
       "      <td>1</td>\n",
       "      <td>10</td>\n",
       "      <td>K-12 Student</td>\n",
       "      <td>4</td>\n",
       "    </tr>\n",
       "    <tr>\n",
       "      <th>381193</th>\n",
       "      <td>783</td>\n",
       "      <td>Hunchback of Notre Dame, The</td>\n",
       "      <td>1996</td>\n",
       "      <td>Animation</td>\n",
       "      <td>1</td>\n",
       "      <td>F</td>\n",
       "      <td>1</td>\n",
       "      <td>10</td>\n",
       "      <td>K-12 Student</td>\n",
       "      <td>4</td>\n",
       "    </tr>\n",
       "  </tbody>\n",
       "</table>\n",
       "</div>"
      ],
      "text/plain": [
       "        Movie_ID                     Movie_Name  Year       Genre  User_ID  \\\n",
       "0              1                     Toy Story   1995   Animation        1   \n",
       "481490      1028                  Mary Poppins   1964  Children's        1   \n",
       "380413       783  Hunchback of Notre Dame, The   1996  Children's        1   \n",
       "380803       783  Hunchback of Notre Dame, The   1996     Musical        1   \n",
       "381193       783  Hunchback of Notre Dame, The   1996   Animation        1   \n",
       "\n",
       "       Sex  Age_Group  Occupation    Profession  Rating  \n",
       "0        F          1          10  K-12 Student       5  \n",
       "481490   F          1          10  K-12 Student       5  \n",
       "380413   F          1          10  K-12 Student       4  \n",
       "380803   F          1          10  K-12 Student       4  \n",
       "381193   F          1          10  K-12 Student       4  "
      ]
     },
     "execution_count": 201,
     "metadata": {},
     "output_type": "execute_result"
    }
   ],
   "source": [
    "final.head()"
   ]
  },
  {
   "cell_type": "code",
   "execution_count": 202,
   "metadata": {
    "collapsed": true
   },
   "outputs": [],
   "source": [
    "f = final"
   ]
  },
  {
   "cell_type": "code",
   "execution_count": 12,
   "metadata": {
    "collapsed": false
   },
   "outputs": [
    {
     "data": {
      "text/plain": [
       "3514"
      ]
     },
     "execution_count": 12,
     "metadata": {},
     "output_type": "execute_result"
    }
   ],
   "source": [
    "#Number Of Movies\n",
    "f.Movie_ID.nunique()"
   ]
  },
  {
   "cell_type": "code",
   "execution_count": 13,
   "metadata": {
    "collapsed": false
   },
   "outputs": [
    {
     "data": {
      "text/plain": [
       "6040"
      ]
     },
     "execution_count": 13,
     "metadata": {},
     "output_type": "execute_result"
    }
   ],
   "source": [
    "#Number Of Users\n",
    "f.User_ID.nunique()"
   ]
  },
  {
   "cell_type": "code",
   "execution_count": 14,
   "metadata": {
    "collapsed": false
   },
   "outputs": [
    {
     "data": {
      "text/plain": [
       "1709"
      ]
     },
     "execution_count": 14,
     "metadata": {},
     "output_type": "execute_result"
    }
   ],
   "source": [
    "#Number of Female Users\n",
    "female = f[f.Sex=='F']\n",
    "female.User_ID.nunique()"
   ]
  },
  {
   "cell_type": "code",
   "execution_count": 67,
   "metadata": {
    "collapsed": false
   },
   "outputs": [
    {
     "data": {
      "text/plain": [
       "4331"
      ]
     },
     "execution_count": 67,
     "metadata": {},
     "output_type": "execute_result"
    }
   ],
   "source": [
    "#Number of Male Users\n",
    "male = f[f.Sex=='M']\n",
    "male.User_ID.nunique()"
   ]
  },
  {
   "cell_type": "code",
   "execution_count": 203,
   "metadata": {
    "collapsed": false
   },
   "outputs": [
    {
     "name": "stdout",
     "output_type": "stream",
     "text": [
      "Number of Professions: 21\n"
     ]
    },
    {
     "data": {
      "text/html": [
       "<div>\n",
       "<table border=\"1\" class=\"dataframe\">\n",
       "  <thead>\n",
       "    <tr style=\"text-align: right;\">\n",
       "      <th></th>\n",
       "      <th>Profession</th>\n",
       "      <th>User_ID</th>\n",
       "    </tr>\n",
       "  </thead>\n",
       "  <tbody>\n",
       "    <tr>\n",
       "      <th>0</th>\n",
       "      <td>Academic</td>\n",
       "      <td>528</td>\n",
       "    </tr>\n",
       "    <tr>\n",
       "      <th>1</th>\n",
       "      <td>Artist</td>\n",
       "      <td>267</td>\n",
       "    </tr>\n",
       "    <tr>\n",
       "      <th>2</th>\n",
       "      <td>Clerk</td>\n",
       "      <td>173</td>\n",
       "    </tr>\n",
       "    <tr>\n",
       "      <th>3</th>\n",
       "      <td>College Student</td>\n",
       "      <td>759</td>\n",
       "    </tr>\n",
       "    <tr>\n",
       "      <th>4</th>\n",
       "      <td>Craftsman</td>\n",
       "      <td>70</td>\n",
       "    </tr>\n",
       "    <tr>\n",
       "      <th>5</th>\n",
       "      <td>Customer Service</td>\n",
       "      <td>112</td>\n",
       "    </tr>\n",
       "    <tr>\n",
       "      <th>6</th>\n",
       "      <td>Doctor</td>\n",
       "      <td>236</td>\n",
       "    </tr>\n",
       "    <tr>\n",
       "      <th>7</th>\n",
       "      <td>Engineer</td>\n",
       "      <td>502</td>\n",
       "    </tr>\n",
       "    <tr>\n",
       "      <th>8</th>\n",
       "      <td>Farmer</td>\n",
       "      <td>17</td>\n",
       "    </tr>\n",
       "    <tr>\n",
       "      <th>9</th>\n",
       "      <td>HomeMaker</td>\n",
       "      <td>92</td>\n",
       "    </tr>\n",
       "    <tr>\n",
       "      <th>10</th>\n",
       "      <td>K-12 Student</td>\n",
       "      <td>195</td>\n",
       "    </tr>\n",
       "    <tr>\n",
       "      <th>11</th>\n",
       "      <td>Lawyer</td>\n",
       "      <td>129</td>\n",
       "    </tr>\n",
       "    <tr>\n",
       "      <th>12</th>\n",
       "      <td>Manager</td>\n",
       "      <td>679</td>\n",
       "    </tr>\n",
       "    <tr>\n",
       "      <th>13</th>\n",
       "      <td>Other</td>\n",
       "      <td>711</td>\n",
       "    </tr>\n",
       "    <tr>\n",
       "      <th>14</th>\n",
       "      <td>Programmer</td>\n",
       "      <td>388</td>\n",
       "    </tr>\n",
       "    <tr>\n",
       "      <th>15</th>\n",
       "      <td>Retired</td>\n",
       "      <td>142</td>\n",
       "    </tr>\n",
       "    <tr>\n",
       "      <th>16</th>\n",
       "      <td>Sales</td>\n",
       "      <td>302</td>\n",
       "    </tr>\n",
       "    <tr>\n",
       "      <th>17</th>\n",
       "      <td>Scientist</td>\n",
       "      <td>144</td>\n",
       "    </tr>\n",
       "    <tr>\n",
       "      <th>18</th>\n",
       "      <td>Self-Employed</td>\n",
       "      <td>241</td>\n",
       "    </tr>\n",
       "    <tr>\n",
       "      <th>19</th>\n",
       "      <td>Unemployed</td>\n",
       "      <td>72</td>\n",
       "    </tr>\n",
       "    <tr>\n",
       "      <th>20</th>\n",
       "      <td>Writer</td>\n",
       "      <td>281</td>\n",
       "    </tr>\n",
       "  </tbody>\n",
       "</table>\n",
       "</div>"
      ],
      "text/plain": [
       "          Profession  User_ID\n",
       "0           Academic      528\n",
       "1             Artist      267\n",
       "2              Clerk      173\n",
       "3    College Student      759\n",
       "4          Craftsman       70\n",
       "5   Customer Service      112\n",
       "6             Doctor      236\n",
       "7           Engineer      502\n",
       "8             Farmer       17\n",
       "9          HomeMaker       92\n",
       "10      K-12 Student      195\n",
       "11            Lawyer      129\n",
       "12           Manager      679\n",
       "13             Other      711\n",
       "14        Programmer      388\n",
       "15           Retired      142\n",
       "16             Sales      302\n",
       "17         Scientist      144\n",
       "18     Self-Employed      241\n",
       "19        Unemployed       72\n",
       "20            Writer      281"
      ]
     },
     "execution_count": 203,
     "metadata": {},
     "output_type": "execute_result"
    }
   ],
   "source": [
    "# How many profession are there in the final dataframe?\n",
    "\n",
    "print(\"Number of Professions:\",f.Profession.nunique())\n",
    "professions = f.groupby(['Profession'])['User_ID'].nunique().reset_index()\n",
    "professions\n",
    "#professions = professions.sort_values(by=['User_ID'],ascending=False)\n",
    "\n"
   ]
  },
  {
   "cell_type": "code",
   "execution_count": 242,
   "metadata": {
    "collapsed": false
   },
   "outputs": [
    {
     "data": {
      "text/plain": [
       "<matplotlib.text.Text at 0x1847aaf3be0>"
      ]
     },
     "execution_count": 242,
     "metadata": {},
     "output_type": "execute_result"
    },
    {
     "data": {
      "image/png": "[encoded data removed]",
      "text/plain": [
       "<matplotlib.figure.Figure at 0x18400ce2128>"
      ]
     },
     "metadata": {},
     "output_type": "display_data"
    }
   ],
   "source": [
    "#bar graph on number of professions.\n",
    "pos = arange(f.Profession.nunique())+.9  # the bar centers on the y axis\n",
    "\n",
    "barh(pos,professions.User_ID, align='center')\n",
    "yticks(pos, (professions.Profession))\n",
    "xlabel('Count')\n",
    "title('Users Profession')\n"
   ]
  },
  {
   "cell_type": "code",
   "execution_count": 17,
   "metadata": {
    "collapsed": false
   },
   "outputs": [
    {
     "name": "stdout",
     "output_type": "stream",
     "text": [
      "Number of Genre: 18\n"
     ]
    },
    {
     "data": {
      "text/html": [
       "<div>\n",
       "<table border=\"1\" class=\"dataframe\">\n",
       "  <thead>\n",
       "    <tr style=\"text-align: right;\">\n",
       "      <th></th>\n",
       "      <th>Genre</th>\n",
       "      <th>Movie_ID</th>\n",
       "    </tr>\n",
       "  </thead>\n",
       "  <tbody>\n",
       "    <tr>\n",
       "      <th>0</th>\n",
       "      <td>Action</td>\n",
       "      <td>447</td>\n",
       "    </tr>\n",
       "    <tr>\n",
       "      <th>1</th>\n",
       "      <td>Adventure</td>\n",
       "      <td>251</td>\n",
       "    </tr>\n",
       "    <tr>\n",
       "      <th>2</th>\n",
       "      <td>Animation</td>\n",
       "      <td>95</td>\n",
       "    </tr>\n",
       "    <tr>\n",
       "      <th>3</th>\n",
       "      <td>Children's</td>\n",
       "      <td>222</td>\n",
       "    </tr>\n",
       "    <tr>\n",
       "      <th>4</th>\n",
       "      <td>Comedy</td>\n",
       "      <td>1123</td>\n",
       "    </tr>\n",
       "    <tr>\n",
       "      <th>5</th>\n",
       "      <td>Crime</td>\n",
       "      <td>191</td>\n",
       "    </tr>\n",
       "    <tr>\n",
       "      <th>6</th>\n",
       "      <td>Documentary</td>\n",
       "      <td>91</td>\n",
       "    </tr>\n",
       "    <tr>\n",
       "      <th>7</th>\n",
       "      <td>Drama</td>\n",
       "      <td>1456</td>\n",
       "    </tr>\n",
       "    <tr>\n",
       "      <th>8</th>\n",
       "      <td>Fantasy</td>\n",
       "      <td>51</td>\n",
       "    </tr>\n",
       "    <tr>\n",
       "      <th>9</th>\n",
       "      <td>Film-Noir</td>\n",
       "      <td>44</td>\n",
       "    </tr>\n",
       "    <tr>\n",
       "      <th>10</th>\n",
       "      <td>Horror</td>\n",
       "      <td>282</td>\n",
       "    </tr>\n",
       "    <tr>\n",
       "      <th>11</th>\n",
       "      <td>Musical</td>\n",
       "      <td>100</td>\n",
       "    </tr>\n",
       "    <tr>\n",
       "      <th>12</th>\n",
       "      <td>Mystery</td>\n",
       "      <td>99</td>\n",
       "    </tr>\n",
       "    <tr>\n",
       "      <th>13</th>\n",
       "      <td>Romance</td>\n",
       "      <td>439</td>\n",
       "    </tr>\n",
       "    <tr>\n",
       "      <th>14</th>\n",
       "      <td>Sci-Fi</td>\n",
       "      <td>224</td>\n",
       "    </tr>\n",
       "    <tr>\n",
       "      <th>15</th>\n",
       "      <td>Thriller</td>\n",
       "      <td>428</td>\n",
       "    </tr>\n",
       "    <tr>\n",
       "      <th>16</th>\n",
       "      <td>War</td>\n",
       "      <td>124</td>\n",
       "    </tr>\n",
       "    <tr>\n",
       "      <th>17</th>\n",
       "      <td>Western</td>\n",
       "      <td>63</td>\n",
       "    </tr>\n",
       "  </tbody>\n",
       "</table>\n",
       "</div>"
      ],
      "text/plain": [
       "          Genre  Movie_ID\n",
       "0        Action       447\n",
       "1     Adventure       251\n",
       "2     Animation        95\n",
       "3    Children's       222\n",
       "4        Comedy      1123\n",
       "5         Crime       191\n",
       "6   Documentary        91\n",
       "7         Drama      1456\n",
       "8       Fantasy        51\n",
       "9     Film-Noir        44\n",
       "10       Horror       282\n",
       "11      Musical       100\n",
       "12      Mystery        99\n",
       "13      Romance       439\n",
       "14       Sci-Fi       224\n",
       "15     Thriller       428\n",
       "16          War       124\n",
       "17      Western        63"
      ]
     },
     "execution_count": 17,
     "metadata": {},
     "output_type": "execute_result"
    }
   ],
   "source": [
    "#How many Genre are there in total and their counts?\n",
    "\n",
    "print(\"Number of Genre:\",f.Genre.nunique())\n",
    "f.groupby(['Genre'])['Movie_ID'].nunique().reset_index()"
   ]
  },
  {
   "cell_type": "code",
   "execution_count": 49,
   "metadata": {
    "collapsed": false
   },
   "outputs": [
    {
     "data": {
      "text/plain": [
       "array([], dtype=int64)"
      ]
     },
     "execution_count": 49,
     "metadata": {},
     "output_type": "execute_result"
    }
   ],
   "source": [
    "f.head()\n",
    "pd.isnull(f).any(1).nonzero()[0]"
   ]
  },
  {
   "cell_type": "code",
   "execution_count": 100,
   "metadata": {
    "collapsed": false,
    "scrolled": true
   },
   "outputs": [
    {
     "data": {
      "text/html": [
       "<div>\n",
       "<table border=\"1\" class=\"dataframe\">\n",
       "  <thead>\n",
       "    <tr style=\"text-align: right;\">\n",
       "      <th></th>\n",
       "      <th>Genre</th>\n",
       "      <th>User_ID</th>\n",
       "    </tr>\n",
       "  </thead>\n",
       "  <tbody>\n",
       "    <tr>\n",
       "      <th>7</th>\n",
       "      <td>Drama</td>\n",
       "      <td>1708</td>\n",
       "    </tr>\n",
       "    <tr>\n",
       "      <th>4</th>\n",
       "      <td>Comedy</td>\n",
       "      <td>1704</td>\n",
       "    </tr>\n",
       "    <tr>\n",
       "      <th>13</th>\n",
       "      <td>Romance</td>\n",
       "      <td>1689</td>\n",
       "    </tr>\n",
       "    <tr>\n",
       "      <th>0</th>\n",
       "      <td>Action</td>\n",
       "      <td>1679</td>\n",
       "    </tr>\n",
       "    <tr>\n",
       "      <th>15</th>\n",
       "      <td>Thriller</td>\n",
       "      <td>1668</td>\n",
       "    </tr>\n",
       "    <tr>\n",
       "      <th>1</th>\n",
       "      <td>Adventure</td>\n",
       "      <td>1598</td>\n",
       "    </tr>\n",
       "    <tr>\n",
       "      <th>16</th>\n",
       "      <td>War</td>\n",
       "      <td>1561</td>\n",
       "    </tr>\n",
       "    <tr>\n",
       "      <th>5</th>\n",
       "      <td>Crime</td>\n",
       "      <td>1550</td>\n",
       "    </tr>\n",
       "    <tr>\n",
       "      <th>14</th>\n",
       "      <td>Sci-Fi</td>\n",
       "      <td>1520</td>\n",
       "    </tr>\n",
       "    <tr>\n",
       "      <th>3</th>\n",
       "      <td>Children's</td>\n",
       "      <td>1493</td>\n",
       "    </tr>\n",
       "    <tr>\n",
       "      <th>10</th>\n",
       "      <td>Horror</td>\n",
       "      <td>1357</td>\n",
       "    </tr>\n",
       "    <tr>\n",
       "      <th>12</th>\n",
       "      <td>Mystery</td>\n",
       "      <td>1340</td>\n",
       "    </tr>\n",
       "    <tr>\n",
       "      <th>11</th>\n",
       "      <td>Musical</td>\n",
       "      <td>1328</td>\n",
       "    </tr>\n",
       "    <tr>\n",
       "      <th>2</th>\n",
       "      <td>Animation</td>\n",
       "      <td>1323</td>\n",
       "    </tr>\n",
       "    <tr>\n",
       "      <th>8</th>\n",
       "      <td>Fantasy</td>\n",
       "      <td>1130</td>\n",
       "    </tr>\n",
       "    <tr>\n",
       "      <th>9</th>\n",
       "      <td>Film-Noir</td>\n",
       "      <td>1049</td>\n",
       "    </tr>\n",
       "    <tr>\n",
       "      <th>17</th>\n",
       "      <td>Western</td>\n",
       "      <td>934</td>\n",
       "    </tr>\n",
       "    <tr>\n",
       "      <th>6</th>\n",
       "      <td>Documentary</td>\n",
       "      <td>538</td>\n",
       "    </tr>\n",
       "  </tbody>\n",
       "</table>\n",
       "</div>"
      ],
      "text/plain": [
       "          Genre  User_ID\n",
       "7         Drama     1708\n",
       "4        Comedy     1704\n",
       "13      Romance     1689\n",
       "0        Action     1679\n",
       "15     Thriller     1668\n",
       "1     Adventure     1598\n",
       "16          War     1561\n",
       "5         Crime     1550\n",
       "14       Sci-Fi     1520\n",
       "3    Children's     1493\n",
       "10       Horror     1357\n",
       "12      Mystery     1340\n",
       "11      Musical     1328\n",
       "2     Animation     1323\n",
       "8       Fantasy     1130\n",
       "9     Film-Noir     1049\n",
       "17      Western      934\n",
       "6   Documentary      538"
      ]
     },
     "execution_count": 100,
     "metadata": {},
     "output_type": "execute_result"
    }
   ],
   "source": [
    "#Most watched Genre by Females\n",
    "female = f[f.Sex=='F']\n",
    "female = female.groupby(['Genre'])['User_ID'].nunique().reset_index()\n",
    "female.sort_values(by=['User_ID'],ascending=False)\n"
   ]
  },
  {
   "cell_type": "code",
   "execution_count": 99,
   "metadata": {
    "collapsed": false
   },
   "outputs": [
    {
     "data": {
      "text/html": [
       "<div>\n",
       "<table border=\"1\" class=\"dataframe\">\n",
       "  <thead>\n",
       "    <tr style=\"text-align: right;\">\n",
       "      <th></th>\n",
       "      <th>Genre</th>\n",
       "      <th>User_ID</th>\n",
       "    </tr>\n",
       "  </thead>\n",
       "  <tbody>\n",
       "    <tr>\n",
       "      <th>7</th>\n",
       "      <td>Drama</td>\n",
       "      <td>4328</td>\n",
       "    </tr>\n",
       "    <tr>\n",
       "      <th>4</th>\n",
       "      <td>Comedy</td>\n",
       "      <td>4325</td>\n",
       "    </tr>\n",
       "    <tr>\n",
       "      <th>0</th>\n",
       "      <td>Action</td>\n",
       "      <td>4307</td>\n",
       "    </tr>\n",
       "    <tr>\n",
       "      <th>15</th>\n",
       "      <td>Thriller</td>\n",
       "      <td>4289</td>\n",
       "    </tr>\n",
       "    <tr>\n",
       "      <th>13</th>\n",
       "      <td>Romance</td>\n",
       "      <td>4192</td>\n",
       "    </tr>\n",
       "    <tr>\n",
       "      <th>1</th>\n",
       "      <td>Adventure</td>\n",
       "      <td>4180</td>\n",
       "    </tr>\n",
       "    <tr>\n",
       "      <th>14</th>\n",
       "      <td>Sci-Fi</td>\n",
       "      <td>4150</td>\n",
       "    </tr>\n",
       "    <tr>\n",
       "      <th>5</th>\n",
       "      <td>Crime</td>\n",
       "      <td>4067</td>\n",
       "    </tr>\n",
       "    <tr>\n",
       "      <th>16</th>\n",
       "      <td>War</td>\n",
       "      <td>3994</td>\n",
       "    </tr>\n",
       "    <tr>\n",
       "      <th>10</th>\n",
       "      <td>Horror</td>\n",
       "      <td>3887</td>\n",
       "    </tr>\n",
       "    <tr>\n",
       "      <th>3</th>\n",
       "      <td>Children's</td>\n",
       "      <td>3762</td>\n",
       "    </tr>\n",
       "    <tr>\n",
       "      <th>12</th>\n",
       "      <td>Mystery</td>\n",
       "      <td>3532</td>\n",
       "    </tr>\n",
       "    <tr>\n",
       "      <th>2</th>\n",
       "      <td>Animation</td>\n",
       "      <td>3414</td>\n",
       "    </tr>\n",
       "    <tr>\n",
       "      <th>11</th>\n",
       "      <td>Musical</td>\n",
       "      <td>3210</td>\n",
       "    </tr>\n",
       "    <tr>\n",
       "      <th>9</th>\n",
       "      <td>Film-Noir</td>\n",
       "      <td>3101</td>\n",
       "    </tr>\n",
       "    <tr>\n",
       "      <th>17</th>\n",
       "      <td>Western</td>\n",
       "      <td>2989</td>\n",
       "    </tr>\n",
       "    <tr>\n",
       "      <th>8</th>\n",
       "      <td>Fantasy</td>\n",
       "      <td>2940</td>\n",
       "    </tr>\n",
       "    <tr>\n",
       "      <th>6</th>\n",
       "      <td>Documentary</td>\n",
       "      <td>1626</td>\n",
       "    </tr>\n",
       "  </tbody>\n",
       "</table>\n",
       "</div>"
      ],
      "text/plain": [
       "          Genre  User_ID\n",
       "7         Drama     4328\n",
       "4        Comedy     4325\n",
       "0        Action     4307\n",
       "15     Thriller     4289\n",
       "13      Romance     4192\n",
       "1     Adventure     4180\n",
       "14       Sci-Fi     4150\n",
       "5         Crime     4067\n",
       "16          War     3994\n",
       "10       Horror     3887\n",
       "3    Children's     3762\n",
       "12      Mystery     3532\n",
       "2     Animation     3414\n",
       "11      Musical     3210\n",
       "9     Film-Noir     3101\n",
       "17      Western     2989\n",
       "8       Fantasy     2940\n",
       "6   Documentary     1626"
      ]
     },
     "execution_count": 99,
     "metadata": {},
     "output_type": "execute_result"
    }
   ],
   "source": [
    "#Most watched Genre by Males\n",
    "male = f[f.Sex=='M']\n",
    "male = male.groupby(['Genre'])['User_ID'].nunique().reset_index()\n",
    "male.sort_values(by=['User_ID'],ascending=False)"
   ]
  },
  {
   "cell_type": "code",
   "execution_count": 51,
   "metadata": {
    "collapsed": false,
    "scrolled": true
   },
   "outputs": [
    {
     "data": {
      "text/html": [
       "<div>\n",
       "<table border=\"1\" class=\"dataframe\">\n",
       "  <thead>\n",
       "    <tr style=\"text-align: right;\">\n",
       "      <th></th>\n",
       "      <th>Movie_ID</th>\n",
       "      <th>Movie_Name</th>\n",
       "      <th>Year</th>\n",
       "      <th>Genre</th>\n",
       "      <th>User_ID</th>\n",
       "      <th>Sex</th>\n",
       "      <th>Age_Group</th>\n",
       "      <th>Occupation</th>\n",
       "      <th>Profession</th>\n",
       "      <th>Rating</th>\n",
       "    </tr>\n",
       "  </thead>\n",
       "  <tbody>\n",
       "    <tr>\n",
       "      <th>0</th>\n",
       "      <td>1</td>\n",
       "      <td>Toy Story</td>\n",
       "      <td>1995</td>\n",
       "      <td>Animation</td>\n",
       "      <td>1</td>\n",
       "      <td>F</td>\n",
       "      <td>1</td>\n",
       "      <td>10</td>\n",
       "      <td>K-12 Student</td>\n",
       "      <td>5</td>\n",
       "    </tr>\n",
       "    <tr>\n",
       "      <th>481490</th>\n",
       "      <td>1028</td>\n",
       "      <td>Mary Poppins</td>\n",
       "      <td>1964</td>\n",
       "      <td>Children's</td>\n",
       "      <td>1</td>\n",
       "      <td>F</td>\n",
       "      <td>1</td>\n",
       "      <td>10</td>\n",
       "      <td>K-12 Student</td>\n",
       "      <td>5</td>\n",
       "    </tr>\n",
       "    <tr>\n",
       "      <th>380413</th>\n",
       "      <td>783</td>\n",
       "      <td>Hunchback of Notre Dame, The</td>\n",
       "      <td>1996</td>\n",
       "      <td>Children's</td>\n",
       "      <td>1</td>\n",
       "      <td>F</td>\n",
       "      <td>1</td>\n",
       "      <td>10</td>\n",
       "      <td>K-12 Student</td>\n",
       "      <td>4</td>\n",
       "    </tr>\n",
       "    <tr>\n",
       "      <th>380803</th>\n",
       "      <td>783</td>\n",
       "      <td>Hunchback of Notre Dame, The</td>\n",
       "      <td>1996</td>\n",
       "      <td>Musical</td>\n",
       "      <td>1</td>\n",
       "      <td>F</td>\n",
       "      <td>1</td>\n",
       "      <td>10</td>\n",
       "      <td>K-12 Student</td>\n",
       "      <td>4</td>\n",
       "    </tr>\n",
       "    <tr>\n",
       "      <th>381193</th>\n",
       "      <td>783</td>\n",
       "      <td>Hunchback of Notre Dame, The</td>\n",
       "      <td>1996</td>\n",
       "      <td>Animation</td>\n",
       "      <td>1</td>\n",
       "      <td>F</td>\n",
       "      <td>1</td>\n",
       "      <td>10</td>\n",
       "      <td>K-12 Student</td>\n",
       "      <td>4</td>\n",
       "    </tr>\n",
       "  </tbody>\n",
       "</table>\n",
       "</div>"
      ],
      "text/plain": [
       "        Movie_ID                     Movie_Name  Year       Genre  User_ID  \\\n",
       "0              1                     Toy Story   1995   Animation        1   \n",
       "481490      1028                  Mary Poppins   1964  Children's        1   \n",
       "380413       783  Hunchback of Notre Dame, The   1996  Children's        1   \n",
       "380803       783  Hunchback of Notre Dame, The   1996     Musical        1   \n",
       "381193       783  Hunchback of Notre Dame, The   1996   Animation        1   \n",
       "\n",
       "       Sex  Age_Group  Occupation    Profession  Rating  \n",
       "0        F          1          10  K-12 Student       5  \n",
       "481490   F          1          10  K-12 Student       5  \n",
       "380413   F          1          10  K-12 Student       4  \n",
       "380803   F          1          10  K-12 Student       4  \n",
       "381193   F          1          10  K-12 Student       4  "
      ]
     },
     "execution_count": 51,
     "metadata": {},
     "output_type": "execute_result"
    }
   ],
   "source": [
    "#What Genre is mostly watched by Under 18 people\n",
    "f.head()\n",
    "under18 = f[f.Age_Group==1]\n",
    "under18 = under18.groupby(['Genre'])['User_ID'].nunique().reset_index()\n",
    "under18.sort_values(by=['User_ID'],ascending=False)\n",
    "f.head()"
   ]
  },
  {
   "cell_type": "code",
   "execution_count": 247,
   "metadata": {
    "collapsed": false
   },
   "outputs": [],
   "source": [
    "#Mean ratings of All the Users on Different Genre.\n",
    "f=final\n",
    "ratings = f.groupby(['Genre'])\n",
    "Mean_Ratings = ratings['Rating'].mean()"
   ]
  },
  {
   "cell_type": "code",
   "execution_count": 173,
   "metadata": {
    "collapsed": false
   },
   "outputs": [],
   "source": [
    "#Mean ratings of Male Users on Different Genre.\n",
    "\n",
    "#ratings = ratings.apply(lambda x: x[x['User_ID'] == 4])\n",
    "ratings = f[f.Sex=='M']\n",
    "ratings = ratings.groupby('Genre')\n",
    "M_Mean = ratings['Rating'].mean()"
   ]
  },
  {
   "cell_type": "code",
   "execution_count": 246,
   "metadata": {
    "collapsed": false
   },
   "outputs": [],
   "source": [
    "#Mean ratings of Female Users on Different Genre.\n",
    "\n",
    "#ratings = ratings.apply(lambda x: x[x['User_ID'] == 4])\n",
    "ratings = f[f.Sex=='F']\n",
    "ratings = ratings.groupby('Genre')\n",
    "F_Mean = ratings['Rating'].mean()\n"
   ]
  },
  {
   "cell_type": "code",
   "execution_count": 248,
   "metadata": {
    "collapsed": false
   },
   "outputs": [],
   "source": [
    "#Converting the required values from the dataframe to numpy variables for plotting the bar graph\n",
    "ff = final.drop_duplicates('Genre')\n",
    "ff = ff['Genre']\n",
    "numpyMatrix = ff.as_matrix()\n",
    "F_MeanNumpy = F_Mean.as_matrix()\n",
    "M_MeanNumpy = M_Mean.as_matrix()"
   ]
  },
  {
   "cell_type": "code",
   "execution_count": 251,
   "metadata": {
    "collapsed": false
   },
   "outputs": [
    {
     "data": {
      "image/png": "[encoded data removed]",
      "text/plain": [
       "<matplotlib.figure.Figure at 0x18400cdf5f8>"
      ]
     },
     "metadata": {},
     "output_type": "display_data"
    }
   ],
   "source": [
    "#Plotting Graph between the Mean ratings of Male VS Female Users\n",
    "\n",
    "n_groups = ff.count()\n",
    "\n",
    "means_men = M_MeanNumpy\n",
    "means_women = F_MeanNumpy\n",
    "\n",
    "fig, ax = plt.subplots()\n",
    "\n",
    "index = np.arange(n_groups)\n",
    "bar_width = 0.35\n",
    "\n",
    "opacity = 0.4\n",
    "#error_config = {'ecolor': '0.3'}\n",
    "\n",
    "rects1 = plt.barh(index, means_men, bar_width,\n",
    "                 alpha=opacity,\n",
    "                 color='b',\n",
    "                 #error_kw=error_config,\n",
    "                 label='Male')\n",
    "\n",
    "rects2 = plt.barh(index + bar_width, means_women, bar_width,\n",
    "                 alpha=opacity,\n",
    "                 color='r',\n",
    "                 #error_kw=error_config,\n",
    "                 label='Female')\n",
    "\n",
    "plt.xlabel('Mean Ratings')\n",
    "plt.ylabel('Genre')\n",
    "plt.title('Mean Ratings Comparison of Male and Female Users')\n",
    "plt.yticks(index + bar_width, numpyMatrix)\n",
    "plt.legend()\n",
    "\n",
    "plt.tight_layout()\n",
    "plt.show()"
   ]
  },
  {
   "cell_type": "code",
   "execution_count": 253,
   "metadata": {
    "collapsed": false
   },
   "outputs": [
    {
     "data": {
      "text/html": [
       "<div>\n",
       "<table border=\"1\" class=\"dataframe\">\n",
       "  <thead>\n",
       "    <tr style=\"text-align: right;\">\n",
       "      <th></th>\n",
       "      <th>Movie_ID</th>\n",
       "      <th>Movie_Name</th>\n",
       "      <th>Year</th>\n",
       "      <th>Genre</th>\n",
       "      <th>User_ID</th>\n",
       "      <th>Sex</th>\n",
       "      <th>Age_Group</th>\n",
       "      <th>Occupation</th>\n",
       "      <th>Profession</th>\n",
       "      <th>Rating</th>\n",
       "    </tr>\n",
       "  </thead>\n",
       "  <tbody>\n",
       "    <tr>\n",
       "      <th>0</th>\n",
       "      <td>1</td>\n",
       "      <td>Toy Story</td>\n",
       "      <td>1995</td>\n",
       "      <td>Animation</td>\n",
       "      <td>1</td>\n",
       "      <td>F</td>\n",
       "      <td>1</td>\n",
       "      <td>10</td>\n",
       "      <td>K-12 Student</td>\n",
       "      <td>5</td>\n",
       "    </tr>\n",
       "    <tr>\n",
       "      <th>481490</th>\n",
       "      <td>1028</td>\n",
       "      <td>Mary Poppins</td>\n",
       "      <td>1964</td>\n",
       "      <td>Children's</td>\n",
       "      <td>1</td>\n",
       "      <td>F</td>\n",
       "      <td>1</td>\n",
       "      <td>10</td>\n",
       "      <td>K-12 Student</td>\n",
       "      <td>5</td>\n",
       "    </tr>\n",
       "    <tr>\n",
       "      <th>380413</th>\n",
       "      <td>783</td>\n",
       "      <td>Hunchback of Notre Dame, The</td>\n",
       "      <td>1996</td>\n",
       "      <td>Children's</td>\n",
       "      <td>1</td>\n",
       "      <td>F</td>\n",
       "      <td>1</td>\n",
       "      <td>10</td>\n",
       "      <td>K-12 Student</td>\n",
       "      <td>4</td>\n",
       "    </tr>\n",
       "    <tr>\n",
       "      <th>380803</th>\n",
       "      <td>783</td>\n",
       "      <td>Hunchback of Notre Dame, The</td>\n",
       "      <td>1996</td>\n",
       "      <td>Musical</td>\n",
       "      <td>1</td>\n",
       "      <td>F</td>\n",
       "      <td>1</td>\n",
       "      <td>10</td>\n",
       "      <td>K-12 Student</td>\n",
       "      <td>4</td>\n",
       "    </tr>\n",
       "    <tr>\n",
       "      <th>381193</th>\n",
       "      <td>783</td>\n",
       "      <td>Hunchback of Notre Dame, The</td>\n",
       "      <td>1996</td>\n",
       "      <td>Animation</td>\n",
       "      <td>1</td>\n",
       "      <td>F</td>\n",
       "      <td>1</td>\n",
       "      <td>10</td>\n",
       "      <td>K-12 Student</td>\n",
       "      <td>4</td>\n",
       "    </tr>\n",
       "  </tbody>\n",
       "</table>\n",
       "</div>"
      ],
      "text/plain": [
       "        Movie_ID                     Movie_Name  Year       Genre  User_ID  \\\n",
       "0              1                     Toy Story   1995   Animation        1   \n",
       "481490      1028                  Mary Poppins   1964  Children's        1   \n",
       "380413       783  Hunchback of Notre Dame, The   1996  Children's        1   \n",
       "380803       783  Hunchback of Notre Dame, The   1996     Musical        1   \n",
       "381193       783  Hunchback of Notre Dame, The   1996   Animation        1   \n",
       "\n",
       "       Sex  Age_Group  Occupation    Profession  Rating  \n",
       "0        F          1          10  K-12 Student       5  \n",
       "481490   F          1          10  K-12 Student       5  \n",
       "380413   F          1          10  K-12 Student       4  \n",
       "380803   F          1          10  K-12 Student       4  \n",
       "381193   F          1          10  K-12 Student       4  "
      ]
     },
     "execution_count": 253,
     "metadata": {},
     "output_type": "execute_result"
    }
   ],
   "source": [
    "f.head()"
   ]
  },
  {
   "cell_type": "code",
   "execution_count": null,
   "metadata": {
    "collapsed": true
   },
   "outputs": [],
   "source": [
    "#"
   ]
  },
  {
   "cell_type": "code",
   "execution_count": 21,
   "metadata": {
    "collapsed": true
   },
   "outputs": [],
   "source": [
    "#Percentage of Genre watched by Males and Females"
   ]
  },
  {
   "cell_type": "code",
   "execution_count": 22,
   "metadata": {
    "collapsed": true
   },
   "outputs": [],
   "source": [
    "#Percentage of Genre Ratings by Males and Females"
   ]
  },
  {
   "cell_type": "code",
   "execution_count": null,
   "metadata": {
    "collapsed": true
   },
   "outputs": [],
   "source": []
  },
  {
   "cell_type": "code",
   "execution_count": null,
   "metadata": {
    "collapsed": true
   },
   "outputs": [],
   "source": []
  },
  {
   "cell_type": "code",
   "execution_count": null,
   "metadata": {
    "collapsed": true
   },
   "outputs": [],
   "source": []
  },
  {
   "cell_type": "code",
   "execution_count": null,
   "metadata": {
    "collapsed": true
   },
   "outputs": [],
   "source": []
  },
  {
   "cell_type": "code",
   "execution_count": 252,
   "metadata": {
    "collapsed": false
   },
   "outputs": [],
   "source": [
    "# if(row['Age Group'] == 1):\n",
    "#         users.loc[index,\"Age Desc\"]=\"Under 18\"\n",
    "#     elif(row['Age Group'] == 18):\n",
    "#         users.loc[index,\"Age Desc\"]=\"18-24\"\n",
    "#     elif(row['Age Group'] == 25):\n",
    "#         users.loc[index,\"Age Desc\"]=\"25-34\"\n",
    "#     elif(row['Age Group'] == 35):\n",
    "#         users.loc[index,\"Age Desc\"]=\"35-44\"\n",
    "#     elif(row['Age Group'] == 45):\n",
    "#         users.loc[index,\"Age Desc\"]=\"45-49\"\n",
    "#     elif(row['Age Group'] == 50):\n",
    "#         users.loc[index,\"Age Desc\"]=\"50-55\"\n",
    "#     elif(row['Age Group'] == 56):\n",
    "#         users.loc[index,\"Age Desc\"]=\"Above 56\""
   ]
  },
  {
   "cell_type": "code",
   "execution_count": null,
   "metadata": {
    "collapsed": true
   },
   "outputs": [],
   "source": []
  },
  {
   "cell_type": "code",
   "execution_count": null,
   "metadata": {
    "collapsed": true
   },
   "outputs": [],
   "source": []
  },
  {
   "cell_type": "code",
   "execution_count": null,
   "metadata": {
    "collapsed": true
   },
   "outputs": [],
   "source": []
  },
  {
   "cell_type": "code",
   "execution_count": null,
   "metadata": {
    "collapsed": true
   },
   "outputs": [],
   "source": []
  }
 ],
 "metadata": {
  "anaconda-cloud": {},
  "kernelspec": {
   "display_name": "Python [default]",
   "language": "python",
   "name": "python3"
  },
  "language_info": {
   "codemirror_mode": {
    "name": "ipython",
    "version": 3
   },
   "file_extension": ".py",
   "mimetype": "text/x-python",
   "name": "python",
   "nbconvert_exporter": "python",
   "pygments_lexer": "ipython3",
   "version": "3.5.2"
  }
 },
 "nbformat": 4,
 "nbformat_minor": 1
}
